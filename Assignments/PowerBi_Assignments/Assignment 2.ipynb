{
 "cells": [
  {
   "cell_type": "markdown",
   "id": "3d247391",
   "metadata": {},
   "source": [
    "# Assignment 2"
   ]
  },
  {
   "cell_type": "markdown",
   "id": "f4e7cc2d",
   "metadata": {},
   "source": [
    "\n",
    "\n",
    "#### Q1. Explain the advantages of Natural Queries in PowerBi with an example?\n",
    "\n",
    "\n",
    " Natural Language queries in Power BI allow users to ask questions about their data in a more intuitive and personal ore conversational way\n",
    "users can speak a question in in a natural language instead of knowing the exact syntax.\n",
    "PowerBi automatically translates the questions into a query that retrieves the data.\n",
    "The advantages OF USING natural languages are -\n",
    "\n",
    "1. Increased accessibility: It makes it easier for non technical users to ask questions and get insights from their data. Users can ask questions using everyday language without the knowledge of proper syntax \n",
    "2. Faster time to insight: It allow users to quickly ans easily get answers to their questions, without having to spend time constructing complex queries or searching through large datasets manually.\n",
    "3. Improved data literacy: It can help users to develop a better understanding of their data and the types of questions they can ask. As users interact with their data through natural language queries,\n",
    "   they can learn more about the structure of the data and the types of insights they can uncover.\n",
    " \n",
    " An example :\n",
    "Suppose a user wants to know the total sales for a particular product in a specific time period.Instead of writing a complex query, the user can simply type a question like \"What were the sales for Product X in Q1 of 2022?\" into the Power BI search bar.\n",
    "Power BI will then use NLP to interpret the question and generate a visualisation that shows the total sales for that product in that time period. \n",
    "\n",
    "This approach saves time and makes it easier for users to get the insights they need from their data.\n"
   ]
  },
  {
   "cell_type": "markdown",
   "id": "4b899da5",
   "metadata": {},
   "source": [
    "#### Q2 . Explain Web Front End(WFE) cluster from Power BI Service Architecture?\n",
    "\n",
    "\n",
    "The Web Front End (WFE) cluster is a component of the Power BI service architecture that is responsible for handling user requests and providing access to Power BI content.\n",
    "it acts as a gateway between user and power Bi service. It provides load balancing and failover capabilities to ensure high scaling \n",
    "\n",
    "It is basically a group of servers that are load balanced and act together to ensure that no single server is overwhelmed with requests and the user is provided with the server\n",
    "with most available resources. \n",
    "It  handles the authorisation and authentication and also handles the notifications and other user interactions and communicates ith power Bi back-end components to generate visualisation for the user.\n",
    "\n"
   ]
  },
  {
   "cell_type": "markdown",
   "id": "f18c4b6c",
   "metadata": {},
   "source": [
    "### Q3. Explain Back End Cluster from Power BI Service Architecture?\n",
    " \n",
    "The Back End Cluster is the group of servers that are responsible for handling, managing and storage of data that are generated and consumed by the Power Bi service.\n",
    "The back end cluster basically consists of the following;\n",
    "\n",
    "Data Storage: PowerBi relies on various Storage mechanisms like Sql Servers, Cloud storage etc.\n",
    "Data Processing: It also includes several components responsible for processing the data that is stored in the Power BI Service.\n",
    "Security and Authentication: The Back End cluster also includes components responsible for ensuring that user data is secure and properly authenticated. \n"
   ]
  },
  {
   "cell_type": "markdown",
   "id": "68b29bcc",
   "metadata": {},
   "source": [
    "### Q4. What ASP.NET component does in Power BI Service Architecture?\n",
    "\n",
    "ASP.NET is a component of the Power BI Service Architecture that is used to build and host the Power BI web application. It provides a set a tools and frameworks to build high performing web applications.\n",
    "\n",
    "The Powerwer BI web application is built on ASP.net and hosted on WFE cluster to receive and handle data from the web application.\n",
    "\n",
    "ASP.NET provides a variety of features and tools that are used to build the Power BI web application, \n",
    "including support for building responsive user interfaces, data binding and validation, and authentication and authorization.\n",
    "\n",
    "It also provides a rich set of libraries and frameworks that can be used to extend the functionality of the Power BI web application.\n",
    "Overall, ASP.NET is a critical component of the Power BI Service Architecture\n",
    "\n"
   ]
  },
  {
   "cell_type": "markdown",
   "id": "0a68d525",
   "metadata": {},
   "source": [
    "### Q5. Compare Microsoft Excel and PowerBi Desktop on the following features:\n",
    "\n",
    "##### Data Import: \n",
    "    Both Microsoft Excel and Power BI Desktop can import data from a variety of sources  including Excel files, CSV files, databases, and other cloud-based data sources. \n",
    "     However, Power BI Desktop provides more advanced data import capabilities,\n",
    "     including the ability to import data from a wider variety of sources, such as web services, and support for more complex data structures.\n",
    "\n",
    "##### Data Transformation:\n",
    "    Power BI Desktop provides a more advanced data transformation capabilities than Excel. Power BI Desktop includes a range of data transformation and data cleansing tools, such as merging, splitting, and transforming data, that make it easier to work with complex data sets.\n",
    "\n",
    "##### Modelling:\n",
    "    Power BI Desktop has more advanced modelling capabilities than Excel. Power BI Desktop provides a range of modelling tools that enable users to build complex data models, create calculated fields, and build hierarchies and relationships between data sets.\n",
    "\n",
    "##### Reporting:\n",
    "    Both Excel and Power BI Desktop provide powerful reporting capabilities, including support for charts, graphs, and pivot tables. However, Power BI Desktop provides more advanced reporting capabilities, including support for interactive visualisations and dashboards, that make it easier to analyse and visualise data.\n",
    "\n",
    "##### Server Deployment: \n",
    "    Power BI Desktop allows users to publish reports and dashboards to the Power BI Service, which provides secure, cloud-based deployment and sharing options. Excel, on the other hand, requires users to manually share and distribute files, making it more difficult to manage and deploy reports at scale.\n",
    "\n",
    "##### Convert Models: \n",
    "    Power BI Desktop can convert data models created in Excel, allowing users to import their existing Excel models into Power BI Desktop for further analysis and visualisation.\n",
    "\n",
    "##### Cost: \n",
    "    Microsoft Excel is included as part of the Microsoft Office suite, which users typically pay for on a subscription basis. Power BI Desktop, on the other hand, is free to download and use, although users may need to pay for additional Power BI features such as Power BI Pro or Power BI Premium to access certain advanced features and capabilities.\n",
    "\n",
    "        Overall, Power BI Desktop provides more advanced data import, transformation, modelling, and reporting capabilities than Microsoft Excel. While both tools can be used to build and analyse data sets, Power BI Desktop provides a more powerful and flexible platform for managing and visualising complex data sets at scale.\n"
   ]
  },
  {
   "cell_type": "markdown",
   "id": "248fceb8",
   "metadata": {},
   "source": [
    "\n",
    "\n",
    "### Q6. List 20 data sources supported by Power Bi desktop.\n",
    "\n",
    "These are just a few examples of the many data sources that are supported by Power BI Desktop. In addition, Power BI Desktop also provides a number of built-in data connectors, as well as support for custom connectors, which can be used to connect to virtually any data source.\n",
    "\n",
    " \n",
    "1.\tMicrosoft Excel\n",
    "2.\tMicrosoft Access\n",
    "3.\tCSV files\n",
    "4.\tJSON files\n",
    "5.\tXML files\n",
    "6.\tSQL Server\n",
    "7.\tSnowflake\n",
    "8.\tAzure SQL Database\n",
    "9.\tOracle Database\n",
    "10.\tIBM DB2\n",
    "11.\tMySQL\n",
    "12.\tPostgreSQL\n",
    "13.\tSybase\n",
    "14.\tTeradata\n",
    "15.\tAmazon Redshift\n",
    "16.\tGoogle BigQuery\n",
    "17.\tSAP HANA\n",
    "18.\tSalesforce\n",
    "19.\tDynamics 365\n",
    "20.\tPower Platform\n"
   ]
  },
  {
   "cell_type": "code",
   "execution_count": null,
   "id": "da6eee26",
   "metadata": {},
   "outputs": [],
   "source": []
  }
 ],
 "metadata": {
  "kernelspec": {
   "display_name": "Python 3 (ipykernel)",
   "language": "python",
   "name": "python3"
  },
  "language_info": {
   "codemirror_mode": {
    "name": "ipython",
    "version": 3
   },
   "file_extension": ".py",
   "mimetype": "text/x-python",
   "name": "python",
   "nbconvert_exporter": "python",
   "pygments_lexer": "ipython3",
   "version": "3.9.12"
  }
 },
 "nbformat": 4,
 "nbformat_minor": 5
}
