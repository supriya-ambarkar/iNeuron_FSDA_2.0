{
 "cells": [
  {
   "cell_type": "markdown",
   "id": "ec9b6617",
   "metadata": {},
   "source": [
    "\n",
    "#### 1. What do you mean by BI? Explain.\n",
    "\n",
    "\n",
    "   - Business intelligence (BI) is the set of techniques and tools for the transformation of raw data into meaningful \n",
    "    and useful information for business analysis purposes.\n",
    "    \n",
    "   - Business intelligence (BI) represents the tools, systems and software that play a key role in the strategic planning process of the corporation.\n",
    "   - Business intelligence (BI) is the use of computing technologies for the identification, discovery and analysis of business data - like sales revenue, products, costs and incomes."
   ]
  },
  {
   "cell_type": "markdown",
   "id": "5e4d7f2d",
   "metadata": {},
   "source": [
    "------------------"
   ]
  },
  {
   "cell_type": "markdown",
   "id": "759c94fd",
   "metadata": {},
   "source": [
    "#### 2. How Power-BI helps in BI, and how does it help Analysts? Explain.\n",
    "\n",
    "\n",
    "   - Power BI is a business analytics solution that lets you visualize your data and share insights across your organization, or embed them in your app or website. Connect to hundreds of data sources and bring your data to life with live dashboards and reports.\n",
    "   - PowerBi helps in Business Intelligence(BI) by providing the features to analyze the huge data using sample dashboards which needs to meet the business needs.\n",
    "    \n",
    "   - Power BI simplifies and enhances the entire business intelligence process for analysts by offering tools for data integration, transformation, modeling, visualization, collaboration, and more. Its user-friendly interface and wide range of features make it a valuable tool for analysts to explore data, create meaningful insights, and share those insights with stakeholders effectively."
   ]
  },
  {
   "cell_type": "markdown",
   "id": "ea03ed61",
   "metadata": {},
   "source": [
    "--------------------"
   ]
  },
  {
   "cell_type": "markdown",
   "id": "50d5b04f",
   "metadata": {},
   "source": [
    "#### 3. Explain Descriptive analytics?\n",
    "\n",
    "    \n",
    "    Descriptive analytics involves summarizing historical data through visualizations and key metrics to understand past performance, trends, and patterns, aiding informed decision-making and communication of insights.\n"
   ]
  },
  {
   "cell_type": "markdown",
   "id": "ee290100",
   "metadata": {},
   "source": [
    "-------------------"
   ]
  },
  {
   "cell_type": "markdown",
   "id": "e9497869",
   "metadata": {},
   "source": [
    "#### 4. Explain Predictive analytics?\n",
    "\n",
    "    Predictive analytics uses historical data, statistical algorithms, and machine learning to forecast future outcomes and trends, enabling proactive decision-making and identifying potential opportunities and risks."
   ]
  },
  {
   "cell_type": "markdown",
   "id": "9a2ec704",
   "metadata": {},
   "source": [
    "------------------"
   ]
  },
  {
   "cell_type": "markdown",
   "id": "0c2a8541",
   "metadata": {},
   "source": [
    "#### 5.Explain perspective analytics?\n",
    "\n",
    "\n",
    "   - Prescriptive Analytics is the last stage where the predictions are used to prescribe the next set of things to be done. "
   ]
  },
  {
   "cell_type": "markdown",
   "id": "d3f50bd5",
   "metadata": {},
   "source": [
    "----------------"
   ]
  },
  {
   "cell_type": "markdown",
   "id": "4bc1a57a",
   "metadata": {},
   "source": [
    "#### 6. Write five real-life questions that PowerBi can solve.\n",
    "  - What were the sales trends over the past year by product category and region?\n",
    "  - Which sales representatives exceeded their targets in the last quarter?\n",
    "  - How did website traffic and engagement change after launching a recent marketing campaign?\n",
    "  - What is the ROI of various marketing initiatives based on lead generation and conversion data?\n",
    "  - What is the average time taken to fill open job positions, and how does it vary by department?\n",
    "  - Are there correlations between employee training and subsequent performance improvements?"
   ]
  },
  {
   "cell_type": "markdown",
   "id": "5d2072be",
   "metadata": {},
   "source": [
    "-----------------"
   ]
  }
 ],
 "metadata": {
  "kernelspec": {
   "display_name": "Python 3 (ipykernel)",
   "language": "python",
   "name": "python3"
  },
  "language_info": {
   "codemirror_mode": {
    "name": "ipython",
    "version": 3
   },
   "file_extension": ".py",
   "mimetype": "text/x-python",
   "name": "python",
   "nbconvert_exporter": "python",
   "pygments_lexer": "ipython3",
   "version": "3.9.12"
  }
 },
 "nbformat": 4,
 "nbformat_minor": 5
}
