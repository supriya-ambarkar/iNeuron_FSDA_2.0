{
 "cells": [
  {
   "cell_type": "markdown",
   "id": "a5b12440",
   "metadata": {},
   "source": [
    "#### 1. Why are functions advantageous to have in your programs?"
   ]
  },
  {
   "cell_type": "markdown",
   "id": "0af55768",
   "metadata": {},
   "source": [
    "- Advantages of functions\n",
    "\n",
    "   - The main advantage of functions is reusability.\n",
    "    \n",
    "   - Dividing the complex task into sub tasks.\n",
    "   \n",
    "   - we can avoid repetion of code."
   ]
  },
  {
   "cell_type": "markdown",
   "id": "01586945",
   "metadata": {},
   "source": [
    "#### 2. When does the code in a function run: when it&#39;s specified or when it&#39;s called?"
   ]
  },
  {
   "cell_type": "markdown",
   "id": "934a6941",
   "metadata": {},
   "source": [
    "- The code in a funtion run when it's called."
   ]
  },
  {
   "cell_type": "code",
   "execution_count": 3,
   "id": "3b29d31e",
   "metadata": {},
   "outputs": [
    {
     "name": "stdout",
     "output_type": "stream",
     "text": [
      "I am sample funtion\n"
     ]
    }
   ],
   "source": [
    "#example\n",
    "def sample(): \n",
    "    print(\"I am sample funtion\")\n",
    "sample() # calling a funtion"
   ]
  },
  {
   "cell_type": "markdown",
   "id": "634e38d5",
   "metadata": {},
   "source": [
    "#### 3. What statement creates a function?"
   ]
  },
  {
   "cell_type": "markdown",
   "id": "ef750ea2",
   "metadata": {},
   "source": [
    "- def is a keyword by using def statement creates a funtion "
   ]
  },
  {
   "cell_type": "code",
   "execution_count": 4,
   "id": "a1d65588",
   "metadata": {},
   "outputs": [
    {
     "name": "stdout",
     "output_type": "stream",
     "text": [
      "Funtion created\n"
     ]
    }
   ],
   "source": [
    "def sample1(): #here def keyword is used to create a funtion\n",
    "    print(\"Funtion created\")\n",
    "sample1()"
   ]
  },
  {
   "cell_type": "markdown",
   "id": "972c9f2a",
   "metadata": {},
   "source": [
    "#### 4. What is the difference between a function and a function call?"
   ]
  },
  {
   "cell_type": "markdown",
   "id": "a2fb6dcc",
   "metadata": {},
   "source": [
    "- A funtions is a block of code which performs a specific task and returns a result.\n",
    "\n",
    "- A function call is statement which passes the program control to the function which is already defined."
   ]
  },
  {
   "cell_type": "markdown",
   "id": "3554a552",
   "metadata": {},
   "source": [
    "#### 5. How many global scopes are there in a Python program? How many local scopes?"
   ]
  },
  {
   "cell_type": "markdown",
   "id": "550b6b5d",
   "metadata": {},
   "source": [
    "- There is one global scope in a python which can be accessed through entire program.\n",
    "- The variables which are declared above the function are called global variables.\n",
    "- The global variables will have program scope.\n",
    "\n",
    "-------\n",
    "\n",
    "- The variables which are declared inside a functions are called local variables.\n",
    "- The local variables will have funtion scope."
   ]
  },
  {
   "cell_type": "markdown",
   "id": "74056e28",
   "metadata": {},
   "source": [
    "#### 6. What happens to variables in a local scope when the function call returns?"
   ]
  },
  {
   "cell_type": "markdown",
   "id": "3eccb78a",
   "metadata": {},
   "source": [
    "- The local variables will have funtion scope.\n",
    "- The memory allocated to the variables inside a funtion will be destroyed when the funtion call returns,"
   ]
  },
  {
   "cell_type": "markdown",
   "id": "5b0bafd0",
   "metadata": {},
   "source": [
    "#### 7. What is the concept of a return value? Is it possible to have a return value in an expression?"
   ]
  },
  {
   "cell_type": "markdown",
   "id": "83f5f32b",
   "metadata": {},
   "source": [
    "- The return value returns a value to the funtion call which can be furtherly used in the program.\n",
    "- Yes it is possible to have a return value in an expression"
   ]
  },
  {
   "cell_type": "markdown",
   "id": "b1a1ecca",
   "metadata": {},
   "source": [
    "#### 8. If a function does not have a return statement, what is the return value of a call to that function?"
   ]
  },
  {
   "cell_type": "markdown",
   "id": "bffff87f",
   "metadata": {},
   "source": [
    "- If a function does not have a return statement the return value of a call to that funtion is None type."
   ]
  },
  {
   "cell_type": "code",
   "execution_count": 5,
   "id": "7b50f1bc",
   "metadata": {},
   "outputs": [
    {
     "name": "stdout",
     "output_type": "stream",
     "text": [
      "HEllo\n",
      "None\n"
     ]
    }
   ],
   "source": [
    "#example\n",
    "\n",
    "def sample2():\n",
    "    print(\"HEllo\")\n",
    "a=sample2()\n",
    "print(a)"
   ]
  },
  {
   "cell_type": "markdown",
   "id": "0dd87ae8",
   "metadata": {},
   "source": [
    "#### 9. How do you make a function variable refer to the global variable?"
   ]
  },
  {
   "cell_type": "markdown",
   "id": "b443224b",
   "metadata": {},
   "source": [
    "- By global keyword we can make a funtion variable refer to global variable."
   ]
  },
  {
   "cell_type": "code",
   "execution_count": 6,
   "id": "66e0b8e5",
   "metadata": {},
   "outputs": [
    {
     "name": "stdout",
     "output_type": "stream",
     "text": [
      "Before funtion call the value of out variable is  100\n",
      "After funtion call the value of out variable is  1000\n"
     ]
    }
   ],
   "source": [
    "#Example\n",
    "\n",
    "out=100\n",
    "def sample3():\n",
    "    global out\n",
    "    out=1000\n",
    "print(\"Before funtion call the value of out variable is \", out)\n",
    "sample3()\n",
    "print(\"After funtion call the value of out variable is \", out)"
   ]
  },
  {
   "cell_type": "markdown",
   "id": "af07fea3",
   "metadata": {},
   "source": [
    "10. What is the data type of None?"
   ]
  },
  {
   "cell_type": "markdown",
   "id": "fce86f9a",
   "metadata": {},
   "source": [
    "- The data type of None is NoneType."
   ]
  },
  {
   "cell_type": "code",
   "execution_count": 7,
   "id": "a81cfaf7",
   "metadata": {},
   "outputs": [
    {
     "data": {
      "text/plain": [
       "NoneType"
      ]
     },
     "execution_count": 7,
     "metadata": {},
     "output_type": "execute_result"
    }
   ],
   "source": [
    "type(None)"
   ]
  },
  {
   "cell_type": "markdown",
   "id": "7991877e",
   "metadata": {},
   "source": [
    "#### 11. What does the sentence import areallyourpetsnamederic do?"
   ]
  },
  {
   "cell_type": "markdown",
   "id": "73819f8e",
   "metadata": {},
   "source": [
    "- The import statements imports a module.\n",
    "- The sentence import areallyourpetsnamederic will import the module into the current program,"
   ]
  },
  {
   "cell_type": "markdown",
   "id": "47c42362",
   "metadata": {},
   "source": [
    "#### 12. If you had a bacon() feature in a spam module, what would you call it after importing spam?"
   ]
  },
  {
   "cell_type": "markdown",
   "id": "3978ae20",
   "metadata": {},
   "source": [
    "import spam\n",
    "\n",
    "spam.bacon()"
   ]
  },
  {
   "cell_type": "markdown",
   "id": "814b2fd1",
   "metadata": {},
   "source": [
    "#### 13. What can you do to save a programme from crashing if it encounters an error?"
   ]
  },
  {
   "cell_type": "markdown",
   "id": "140c5ff9",
   "metadata": {},
   "source": [
    "- Using Exception handling\n",
    "    - try except statements\n",
    "    - raising exceptions\n",
    "    - user defined exceptions"
   ]
  },
  {
   "cell_type": "markdown",
   "id": "7d9ecc6e",
   "metadata": {},
   "source": [
    "#### 14. What is the purpose of the try clause? What is the purpose of the except clause?"
   ]
  },
  {
   "cell_type": "markdown",
   "id": "5d43617e",
   "metadata": {},
   "source": [
    "- The purpose of try clause is to inlcude a block of code which can generates errors if error occurs the control will be passed to except block which can save the program from getting errors.\n",
    "\n",
    "- The purpose of except clause is to handle the errors or exceptions which are generated in try block."
   ]
  }
 ],
 "metadata": {
  "kernelspec": {
   "display_name": "Python 3 (ipykernel)",
   "language": "python",
   "name": "python3"
  },
  "language_info": {
   "codemirror_mode": {
    "name": "ipython",
    "version": 3
   },
   "file_extension": ".py",
   "mimetype": "text/x-python",
   "name": "python",
   "nbconvert_exporter": "python",
   "pygments_lexer": "ipython3",
   "version": "3.10.3"
  }
 },
 "nbformat": 4,
 "nbformat_minor": 5
}
