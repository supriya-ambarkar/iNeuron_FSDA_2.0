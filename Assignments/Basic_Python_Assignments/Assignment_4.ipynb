{
 "cells": [
  {
   "cell_type": "markdown",
   "id": "fa4acf3f",
   "metadata": {},
   "source": [
    "### 1. What exactly is []?"
   ]
  },
  {
   "cell_type": "markdown",
   "id": "85062519",
   "metadata": {},
   "source": [
    "[] this exactly denotes a empty list."
   ]
  },
  {
   "cell_type": "markdown",
   "id": "3c983ecb",
   "metadata": {},
   "source": [
    "### 2. In a list of values stored in a variable called spam, how would you assign the value &#39;hello&#39; as the third value? (Assume [2, 4, 6, 8, 10] are in spam.) "
   ]
  },
  {
   "cell_type": "markdown",
   "id": "48febd23",
   "metadata": {},
   "source": [
    "spam=[2,4,6,8,10]\n",
    "\n",
    "spam.insert(2,'hello')"
   ]
  },
  {
   "cell_type": "code",
   "execution_count": 1,
   "id": "97c58d87",
   "metadata": {},
   "outputs": [
    {
     "name": "stdout",
     "output_type": "stream",
     "text": [
      "[2, 4, 'hello', 6, 8, 10]\n"
     ]
    }
   ],
   "source": [
    "#execution of question 2\n",
    "spam=[2,4,6,8,10]\n",
    "spam.insert(2,'hello')\n",
    "print(spam)"
   ]
  },
  {
   "cell_type": "markdown",
   "id": "9a203022",
   "metadata": {},
   "source": [
    "### Let&#39;s pretend the spam includes the list [&#39;a&#39;, &#39;b&#39;, &#39;c&#39;, &#39;d&#39;] for the next three queries."
   ]
  },
  {
   "cell_type": "markdown",
   "id": "c0c46ba9",
   "metadata": {},
   "source": [
    "### 3. What is the value of spam[int(int(&#39;3&#39; * 2) / 11)]?"
   ]
  },
  {
   "cell_type": "markdown",
   "id": "718e9416",
   "metadata": {},
   "source": [
    "spam=['a','b','c','d']\n",
    "\n",
    "spam[int(int('3'*2)//11] --> gives the value 'd' from the spam."
   ]
  },
  {
   "cell_type": "code",
   "execution_count": 3,
   "id": "576fe603",
   "metadata": {},
   "outputs": [
    {
     "data": {
      "text/plain": [
       "'d'"
      ]
     },
     "execution_count": 3,
     "metadata": {},
     "output_type": "execute_result"
    }
   ],
   "source": [
    "#execution of question 3\n",
    "spam=['a','b','c','d']\n",
    "spam[int(int('3'*2)//11)]"
   ]
  },
  {
   "cell_type": "markdown",
   "id": "4d94a19d",
   "metadata": {},
   "source": [
    "### 4. What is the value of spam[-1]?"
   ]
  },
  {
   "cell_type": "markdown",
   "id": "cc1a9a24",
   "metadata": {},
   "source": [
    "spam[-1] gives the value 'd'"
   ]
  },
  {
   "cell_type": "code",
   "execution_count": 4,
   "id": "7280b7fd",
   "metadata": {},
   "outputs": [
    {
     "data": {
      "text/plain": [
       "'d'"
      ]
     },
     "execution_count": 4,
     "metadata": {},
     "output_type": "execute_result"
    }
   ],
   "source": [
    "#execution of question 4\n",
    "spam[-1]"
   ]
  },
  {
   "cell_type": "markdown",
   "id": "2f19ba6b",
   "metadata": {},
   "source": [
    "### 5. What is the value of spam[:2]?"
   ]
  },
  {
   "cell_type": "markdown",
   "id": "4ce6e604",
   "metadata": {},
   "source": [
    "spam[:2] gives the value ['a','b']"
   ]
  },
  {
   "cell_type": "code",
   "execution_count": 5,
   "id": "8ae272c3",
   "metadata": {},
   "outputs": [
    {
     "data": {
      "text/plain": [
       "['a', 'b']"
      ]
     },
     "execution_count": 5,
     "metadata": {},
     "output_type": "execute_result"
    }
   ],
   "source": [
    "#execution of question 5\n",
    "spam[:2]"
   ]
  },
  {
   "cell_type": "markdown",
   "id": "89d7c65d",
   "metadata": {},
   "source": [
    "### Let&#39;s pretend bacon has the list [3.14, &#39;cat,&#39; 11, &#39;cat,&#39; True] for the next three questions."
   ]
  },
  {
   "cell_type": "markdown",
   "id": "cd5a841f",
   "metadata": {},
   "source": [
    "### 6. What is the value of bacon.index(&#39;cat&#39;)?"
   ]
  },
  {
   "cell_type": "markdown",
   "id": "8f6d12f4",
   "metadata": {},
   "source": [
    "bacon=[3.14, 'cat,' 11, 'cat,' True]\n",
    "\n",
    "bacon.index('cat')  -> gives the value 1 (because index() return the first occurence of the element in the list)"
   ]
  },
  {
   "cell_type": "code",
   "execution_count": 8,
   "id": "b15bf8e4",
   "metadata": {},
   "outputs": [
    {
     "data": {
      "text/plain": [
       "1"
      ]
     },
     "execution_count": 8,
     "metadata": {},
     "output_type": "execute_result"
    }
   ],
   "source": [
    "#execution of question 6\n",
    "bacon=[3.14, 'cat', 11, 'cat', True]\n",
    "bacon.index('cat')"
   ]
  },
  {
   "cell_type": "markdown",
   "id": "465ec1f4",
   "metadata": {},
   "source": [
    "### 7. How does bacon.append(99) change the look of the list value in bacon?"
   ]
  },
  {
   "cell_type": "markdown",
   "id": "6a6feb6c",
   "metadata": {},
   "source": [
    "bacon.append(99)\n",
    "\n",
    "The list looks like [3.14, 'cat,' 11, 'cat,' True,99]"
   ]
  },
  {
   "cell_type": "code",
   "execution_count": 9,
   "id": "70ddc883",
   "metadata": {},
   "outputs": [
    {
     "data": {
      "text/plain": [
       "[3.14, 'cat', 11, 'cat', True, 99]"
      ]
     },
     "execution_count": 9,
     "metadata": {},
     "output_type": "execute_result"
    }
   ],
   "source": [
    "#execution of question 7\n",
    "bacon.append(99)\n",
    "bacon"
   ]
  },
  {
   "cell_type": "markdown",
   "id": "b743e0ac",
   "metadata": {},
   "source": [
    "### 8. How does bacon.remove(&#39;cat&#39;) change the look of the list in bacon?"
   ]
  },
  {
   "cell_type": "markdown",
   "id": "48a99b8b",
   "metadata": {},
   "source": [
    "bacon.remove('cat')\n",
    "\n",
    "The list looks like 3.14,11, 'cat,' True,99]"
   ]
  },
  {
   "cell_type": "code",
   "execution_count": 10,
   "id": "5b4e3bf0",
   "metadata": {},
   "outputs": [
    {
     "data": {
      "text/plain": [
       "[3.14, 11, 'cat', True, 99]"
      ]
     },
     "execution_count": 10,
     "metadata": {},
     "output_type": "execute_result"
    }
   ],
   "source": [
    "#execution of question 8\n",
    "bacon.remove('cat')\n",
    "bacon"
   ]
  },
  {
   "cell_type": "markdown",
   "id": "fbc17651",
   "metadata": {},
   "source": [
    "### 9. What are the list concatenation and list replication operators?"
   ]
  },
  {
   "cell_type": "markdown",
   "id": "3bd5627e",
   "metadata": {},
   "source": [
    "- The list concatenation operator is +\n",
    "    \n",
    "- The list replication operator is * "
   ]
  },
  {
   "cell_type": "code",
   "execution_count": 12,
   "id": "dfbc911e",
   "metadata": {},
   "outputs": [
    {
     "name": "stdout",
     "output_type": "stream",
     "text": [
      "[1, 2, 3, 4]\n",
      "[1, 2, 1, 2]\n"
     ]
    }
   ],
   "source": [
    "#execution of question 9\n",
    "l1=[1,2]\n",
    "l2=[3,4]\n",
    "print(l1+l2) #list concatenation\n",
    "print(l1*2) #list replication"
   ]
  },
  {
   "cell_type": "markdown",
   "id": "e50be162",
   "metadata": {},
   "source": [
    "### 10. What is difference between the list methods append() and insert()?"
   ]
  },
  {
   "cell_type": "markdown",
   "id": "79dbf30c",
   "metadata": {},
   "source": [
    "- The main difference between the list append() and insert() is\n",
    "  - The append() method takes only one arguement and appends the value to the end of the list.\n",
    "  - while insert() methods takes two arguments one is index and other is value it inserts at the value in the specified    index in the given list."
   ]
  },
  {
   "cell_type": "code",
   "execution_count": 13,
   "id": "2d266827",
   "metadata": {},
   "outputs": [
    {
     "name": "stdout",
     "output_type": "stream",
     "text": [
      "[1, 2, 3]\n",
      "[1, 'inserted at 1', 2, 3]\n"
     ]
    }
   ],
   "source": [
    "#execution of question 10\n",
    "l=[1,2]\n",
    "l.append(3) #append\n",
    "print(l)\n",
    "l.insert(1,'inserted at 1') #insert\n",
    "print(l)"
   ]
  },
  {
   "cell_type": "markdown",
   "id": "4eb1f01b",
   "metadata": {},
   "source": [
    "### 11. What are the two methods for removing items from a list?"
   ]
  },
  {
   "cell_type": "markdown",
   "id": "08783d1f",
   "metadata": {},
   "source": [
    "- The two methods for removing items from a list is remove() and pop()\n",
    "    - remove() takes the value as an argument and remove the first occurance of that element\n",
    "    - pop() takes the index as an argument and deletes the value at specified index. The default index value is -1"
   ]
  },
  {
   "cell_type": "code",
   "execution_count": 15,
   "id": "ba402fa3",
   "metadata": {},
   "outputs": [
    {
     "name": "stdout",
     "output_type": "stream",
     "text": [
      "[1, 3, 3, 7, 5, 6]\n",
      "[1, 3, 3, 7, 5]\n"
     ]
    }
   ],
   "source": [
    "#execution of question 11\n",
    "l=[1,2,3,3,7,5,6]\n",
    "l.remove(2)\n",
    "print(l) #after remove()\n",
    "l.pop(5)\n",
    "print(l) #after pop()"
   ]
  },
  {
   "cell_type": "markdown",
   "id": "62ad138a",
   "metadata": {},
   "source": [
    "### 12. Describe how list values and string values are identical."
   ]
  },
  {
   "cell_type": "markdown",
   "id": "c7f83ff4",
   "metadata": {},
   "source": [
    "- The list values and string values are identical because:\n",
    "    - Both objects indexing starts from 0.\n",
    "    - Both list and string allows Negative indexing.\n",
    "    - Both can be passed to len() funtion.\n",
    "    - Both can be used in for loops.\n",
    "    - Both objects supports in and not in operators.\n",
    "    - Both supports to concatenation and replication."
   ]
  },
  {
   "cell_type": "markdown",
   "id": "3a0a9942",
   "metadata": {},
   "source": [
    "### 13. What&#39;s the difference between tuples and lists?"
   ]
  },
  {
   "cell_type": "markdown",
   "id": "d0b7a9f8",
   "metadata": {},
   "source": [
    "- The main difference between tuples and lists are:\n",
    "    - Lists are mutable objects.\n",
    "    - While tuples are immutable objects\n",
    "    - A single element in a list can be maintained as [1]\n",
    "    - While in a tuple (1,)\n",
    "    - tuple has only two inbult methods count and index while list have many methods."
   ]
  },
  {
   "cell_type": "markdown",
   "id": "9a2b9f15",
   "metadata": {},
   "source": [
    "### 14. How do you type a tuple value that only contains the integer 42?"
   ]
  },
  {
   "cell_type": "markdown",
   "id": "fd1119fe",
   "metadata": {},
   "source": [
    "tup=(42,)"
   ]
  },
  {
   "cell_type": "code",
   "execution_count": 17,
   "id": "eef51745",
   "metadata": {},
   "outputs": [
    {
     "data": {
      "text/plain": [
       "(42,)"
      ]
     },
     "execution_count": 17,
     "metadata": {},
     "output_type": "execute_result"
    }
   ],
   "source": [
    "#execution of question 14\n",
    "tup=(42,)\n",
    "tup"
   ]
  },
  {
   "cell_type": "markdown",
   "id": "ce6e016e",
   "metadata": {},
   "source": [
    "### 15. How do you get a list value&#39;s tuple form? How do you get a tuple value&#39;s list form?"
   ]
  },
  {
   "cell_type": "markdown",
   "id": "60d8ac8d",
   "metadata": {},
   "source": [
    "- To get a list value's tuple form we pass list object to tuple() funtion\n",
    "- To get a tuple value's tuple form we pass list object to list() funtion"
   ]
  },
  {
   "cell_type": "code",
   "execution_count": 20,
   "id": "0f27fde9",
   "metadata": {},
   "outputs": [
    {
     "name": "stdout",
     "output_type": "stream",
     "text": [
      "(1, 2, 3)\n",
      "['a,', 'b']\n"
     ]
    }
   ],
   "source": [
    "##execution of question 15\n",
    "l=[1,2,3]\n",
    "print(tuple(l))\n",
    "t=('a,','b')\n",
    "print(list(t))"
   ]
  },
  {
   "cell_type": "markdown",
   "id": "accc9dda",
   "metadata": {},
   "source": [
    "### 16. Variables that &quot;contain&quot; list values are not necessarily lists themselves. Instead, what do they\n",
    "### contain?"
   ]
  },
  {
   "cell_type": "markdown",
   "id": "c90da4b0",
   "metadata": {},
   "source": [
    "- The contain the reference to list values in memory location.\n",
    "- The variables points to list in memory location internally."
   ]
  },
  {
   "cell_type": "markdown",
   "id": "7b840064",
   "metadata": {},
   "source": [
    "### 17. How do you distinguish between copy.copy() and copy.deepcopy()?"
   ]
  },
  {
   "cell_type": "markdown",
   "id": "aedc0627",
   "metadata": {},
   "source": [
    "- copy().copy()  (Shallow copy)\n",
    "- copy().copy() creates the copy() of the old object and stores it in new object.\n",
    "  - If we made changes to old object elements which are presented at copy() operation then the changes reflects in both objects.\n",
    "  - But when we add new elements to the old object it does not reflect in new object\n",
    "    "
   ]
  },
  {
   "cell_type": "code",
   "execution_count": 24,
   "id": "2ccf5ba9",
   "metadata": {},
   "outputs": [
    {
     "name": "stdout",
     "output_type": "stream",
     "text": [
      "before changing the old object contents\n",
      "[[1, 2, 3], [1, 2, 3]]\n",
      "[[1, 2, 3], [1, 2, 3]]\n",
      "After changing  the old object contents\n",
      "[[1, 2, 3], [100, 2, 3]]\n",
      "[[1, 2, 3], [100, 2, 3]]\n",
      "After appending to the old object\n",
      "[[1, 2, 3], [100, 2, 3], [1, 2, 3]]\n",
      "[[1, 2, 3], [100, 2, 3]]\n"
     ]
    }
   ],
   "source": [
    "import copy\n",
    "old=[[1,2,3],[1,2,3]]\n",
    "new=copy.copy(old)\n",
    "print('before changing the old object contents')\n",
    "print(old)\n",
    "print(new)\n",
    "old[1][0]=100\n",
    "print('After changing  the old object contents')\n",
    "print(old)\n",
    "print(new)\n",
    "print(\"After appending to the old object\")\n",
    "old.append([1,2,3])\n",
    "print(old)\n",
    "print(new)"
   ]
  },
  {
   "cell_type": "markdown",
   "id": "2ccd4ae7",
   "metadata": {},
   "source": [
    "copy().deepcopy()\n",
    "- copy().deepcopy() creates the deepcopy() of the old object and stores it in new object.\n",
    "- But when we add new elements to the old object it does not reflect in the new object and changes does not made to new object."
   ]
  },
  {
   "cell_type": "code",
   "execution_count": 25,
   "id": "b9c02075",
   "metadata": {},
   "outputs": [
    {
     "name": "stdout",
     "output_type": "stream",
     "text": [
      "before changing the old object contents\n",
      "[[1, 2, 3], [1, 2, 3]]\n",
      "[[1, 2, 3], [1, 2, 3]]\n",
      "After changing  the old object contents\n",
      "[[1, 2, 3], [100, 2, 3]]\n",
      "[[1, 2, 3], [1, 2, 3]]\n",
      "After appending to the old object\n",
      "[[1, 2, 3], [100, 2, 3], [1, 2, 3]]\n",
      "[[1, 2, 3], [1, 2, 3]]\n"
     ]
    }
   ],
   "source": [
    "import copy\n",
    "old=[[1,2,3],[1,2,3]]\n",
    "new=copy.deepcopy(old)\n",
    "print('before changing the old object contents')\n",
    "print(old)\n",
    "print(new)\n",
    "old[1][0]=100\n",
    "print('After changing  the old object contents')\n",
    "print(old)\n",
    "print(new)\n",
    "print(\"After appending to the old object\")\n",
    "old.append([1,2,3])\n",
    "print(old)\n",
    "print(new)"
   ]
  }
 ],
 "metadata": {
  "kernelspec": {
   "display_name": "Python 3 (ipykernel)",
   "language": "python",
   "name": "python3"
  },
  "language_info": {
   "codemirror_mode": {
    "name": "ipython",
    "version": 3
   },
   "file_extension": ".py",
   "mimetype": "text/x-python",
   "name": "python",
   "nbconvert_exporter": "python",
   "pygments_lexer": "ipython3",
   "version": "3.10.3"
  }
 },
 "nbformat": 4,
 "nbformat_minor": 5
}
