{
 "cells": [
  {
   "cell_type": "markdown",
   "id": "d8aab80a",
   "metadata": {},
   "source": [
    "#### 1. What advantages do Excel spreadsheets have over CSV spreadsheets?\n",
    "**Ans:** The Advantages of Excel over CSV are:\n",
    "1. Excel (XLS and XLSX) file formats are better for storing and analysing complex data.\n",
    "2. An Excel not only stores data but can also do operations on the data using macros, formulas etc\n",
    "3. CSV files are plain-text files, Does not contain formatting, formulas, macros, etc. It is also known as flat files"
   ]
  },
  {
   "cell_type": "markdown",
   "id": "b66e958d",
   "metadata": {},
   "source": [
    "#### 2.What do you pass to csv.reader() and csv.writer() to create reader and writer objects?"
   ]
  },
  {
   "cell_type": "code",
   "execution_count": 1,
   "id": "e7c67268",
   "metadata": {},
   "outputs": [
    {
     "name": "stdout",
     "output_type": "stream",
     "text": [
      "['OrderDate', 'Region', 'Rep', 'Item', 'Units', 'Unit Price']\n",
      "['04-Jul-14', 'East', 'Richard', 'Pen Set', '62', '4.99']\n",
      "['12-Jul-14', 'East', 'Nick', 'Binder', '29', '1.99']\n",
      "['21-Jul-14', 'Central', 'Morgan', 'Pen Set', '55', '12.49']\n",
      "['29-Jul-14', 'East', 'Susan', 'Binder', '81', '19.99']\n",
      "['07-Aug-14', 'Central', 'Matthew', 'Pen Set', '42', '23.95']\n",
      "['15-Aug-14', 'East', 'Richard', 'Pencil', '35', '4.99']\n",
      "['24-Aug-14', 'West', 'James', 'Desk', '3', '275']\n",
      "['01-Sep-14', 'Central', 'Smith', 'Desk', '2', '125']\n",
      "['10-Sep-14', 'Central', 'Bill', 'Pencil', '7', '1.29']\n",
      "['18-Sep-14', 'East', 'Richard', 'Pen Set', '16', '15.99']\n",
      "['27-Sep-14', 'West', 'James', 'Pen', '76', '1.99']\n",
      "['05-Oct-14', 'Central', 'Morgan', 'Binder', '28', '8.99']\n",
      "['14-Oct-14', 'West', 'Thomas', 'Binder', '57', '19.99']\n",
      "['22-Oct-14', 'East', 'Richard', 'Pen', '64', '8.99']\n",
      "['31-Oct-14', 'Central', 'Rachel', 'Pencil', '14', '1.29']\n",
      "['08-Nov-14', 'East', 'Susan', 'Pen', '15', '19.99']\n",
      "['17-Nov-14', 'Central', 'Alex', 'Binder', '11', '4.99']\n",
      "['25-Nov-14', 'Central', 'Matthew', 'Pen Set', '96', '4.99']\n",
      "['04-Dec-14', 'Central', 'Alex', 'Binder', '94', '19.99']\n",
      "['12-Dec-14', 'Central', 'Smith', 'Pencil', '67', '1.29']\n",
      "['21-Dec-14', 'Central', 'Rachel', 'Binder', '28', '4.99']\n",
      "['29-Dec-14', 'East', 'Susan', 'Pen Set', '74', '15.99']\n",
      "['06-Jan-15', 'East', 'Richard', 'Pencil', '95', '1.99']\n",
      "['15-Jan-15', 'Central', 'Bill', 'Binder', '46', '8.99']\n",
      "['23-Jan-15', 'Central', 'Matthew', 'Binder', '50', '19.99']\n",
      "['01-Feb-15', 'Central', 'Smith', 'Binder', '87', '15']\n",
      "['09-Feb-15', 'Central', 'Alex', 'Pencil', '36', '4.99']\n",
      "['18-Feb-15', 'East', 'Richard', 'Binder', '4', '4.99']\n",
      "['26-Feb-15', 'Central', 'Bill', 'Pen', '27', '19.99']\n",
      "['07-Mar-15', 'West', 'James', 'Binder', '7', '19.99']\n",
      "['15-Mar-15', 'West', 'James', 'Pencil', '56', '2.99']\n",
      "['24-Mar-15', 'Central', 'Alex', 'Pen Set', '50', '4.99']\n",
      "['01-Apr-15', 'East', 'Richard', 'Binder', '60', '4.99']\n",
      "['10-Apr-15', 'Central', 'Rachel', 'Pencil', '66', '1.99']\n",
      "['18-Apr-15', 'Central', 'Rachel', 'Pencil', '75', '1.99']\n",
      "['27-Apr-15', 'East', 'Nick', 'Pen', '96', '4.99']\n",
      "['05-May-15', 'Central', 'Alex', 'Pencil', '90', '4.99']\n",
      "['14-May-15', 'Central', 'Bill', 'Pencil', '53', '1.29']\n",
      "['22-May-15', 'West', 'Thomas', 'Pencil', '32', '1.99']\n",
      "['31-May-15', 'Central', 'Bill', 'Binder', '80', '8.99']\n",
      "['08-Jun-15', 'East', 'Richard', 'Binder', '60', '8.99']\n",
      "['17-Jun-15', 'Central', 'Matthew', 'Desk', '5', '125']\n",
      "['25-Jun-15', 'Central', 'Morgan', 'Pencil', '90', '4.99']\n"
     ]
    }
   ],
   "source": [
    "import csv\n",
    "with open('D:\\INeuron - DATA ANALYTICS\\Power Bi\\Datasets\\P6-OfficeSupplies.csv','r') as file:\n",
    "    csv_file = csv.reader(file,delimiter=',')\n",
    "    for ele in csv_file:\n",
    "        print(ele)"
   ]
  },
  {
   "cell_type": "markdown",
   "id": "c3478f56",
   "metadata": {},
   "source": [
    "#### 3. What modes do File objects for reader and writer objects need to be opened in?\n",
    "**Ans:** For `csv.reader(iterable_file_object)`, the file objects needed to be opened in `read` mode `mode='r'` Whereas for `csv.writer(iterable_file_object)` the file objects needed to be opened in `write` mode `mode='w'`\n"
   ]
  },
  {
   "cell_type": "markdown",
   "id": "c2f017ec",
   "metadata": {},
   "source": [
    "#### 4. What method takes a list argument and writes it to a CSV file?\n",
    "**Ans:** csv.writer class provides two methods for writing to CSV. They are `writerow()` and `writerows().` writerow() method writes a single row at a time. Whereas writerows() method is used to write multiple rows at a time."
   ]
  },
  {
   "cell_type": "code",
   "execution_count": 2,
   "id": "3a3e46b5",
   "metadata": {},
   "outputs": [],
   "source": [
    "# Example Program\n",
    "import csv      \n",
    "fields = ['Name', 'Branch', 'Year', 'CGPA'] #column names \n",
    "rows = [ \n",
    "            ['Supriya', 'COE', '2', '9.0'],  # data rows of csv file \n",
    "            ['Rani', 'COE', '2', '9.1'], \n",
    "            ['Sweetha', 'IT', '2', '9.3']\n",
    "       ] \n",
    "with open(\"university_records.csv\", 'w') as csvfile: \n",
    "    csvwriter = csv.writer(csvfile) # creating a csv writer object \n",
    "    csvwriter.writerow(fields) # writing the fields \n",
    "    csvwriter.writerows(rows) # writing the data rows "
   ]
  },
  {
   "cell_type": "markdown",
   "id": "68179164",
   "metadata": {},
   "source": [
    "#### 5. What do the keyword arguments delimiter and line terminator do?\n",
    "**Ans:** Lets take the example of a csv file:  \n",
    "`First Name, Last Name, Age`  \n",
    "`Mano, Vishnu, 24`  \n",
    "`Vishnu, Vardhan, 21`  \n",
    "Here `','` is Delimiter. We can use any Character as per our needs if required. Similarly Line Terminator comes at end of line by default it is newline and can be changed accourding to Requirement."
   ]
  },
  {
   "cell_type": "markdown",
   "id": "94752f89",
   "metadata": {},
   "source": [
    "#### 6. What function takes a string of JSON data and returns a Python data structure?\n",
    "**Ans:** `loads()` method takes a string of JSON data and returns a Python data structure"
   ]
  },
  {
   "cell_type": "code",
   "execution_count": 4,
   "id": "cf976f3f",
   "metadata": {},
   "outputs": [
    {
     "name": "stdout",
     "output_type": "stream",
     "text": [
      "{\n",
      "    \"Name\": \"Supriya \",\n",
      "    \"Qualification\": \"Bachelor of Technology\",\n",
      "    \"Stream\": \"Computer Science and Engineering\"\n",
      "}\n",
      "Type of my_details_json is <class 'str'>\n",
      "{'Name': 'Supriya ', 'Qualification': 'Bachelor of Technology', 'Stream': 'Computer Science and Engineering'}\n",
      "Type of my_details is <class 'dict'>\n"
     ]
    }
   ],
   "source": [
    "# Example of json.loads() method\n",
    "import json\n",
    "my_details_json ='''{\n",
    "    \"Name\": \"Supriya \",\n",
    "    \"Qualification\": \"Bachelor of Technology\",\n",
    "    \"Stream\": \"Computer Science and Engineering\"\n",
    "}'''\n",
    "print(my_details_json)\n",
    "print(f'Type of my_details_json is {type(my_details_json)}')\n",
    "my_details = json.loads(my_details_json)\n",
    "print(my_details)\n",
    "print(f'Type of my_details is {type(my_details)}')"
   ]
  },
  {
   "cell_type": "markdown",
   "id": "bc39716d",
   "metadata": {},
   "source": [
    "#### 7. What function takes a Python data structure and returns a string of JSON data?\n",
    "**Ans:** `dumps()` method takes a python data structure and returns a string of JSON data"
   ]
  },
  {
   "cell_type": "code",
   "execution_count": 5,
   "id": "5125a827",
   "metadata": {},
   "outputs": [
    {
     "name": "stdout",
     "output_type": "stream",
     "text": [
      "{'Name': 'Supriya', 'Stream': 'Computer Science and Engineering', 'Qualification': 'Bachelor of Technology'}\n",
      "Type of my_details is <class 'dict'>\n",
      "{\n",
      "    \"Name\": \"Supriya\",\n",
      "    \"Qualification\": \"Bachelor of Technology\",\n",
      "    \"Stream\": \"Computer Science and Engineering\"\n",
      "}\n",
      "Type of my_details_json is <class 'str'>\n"
     ]
    }
   ],
   "source": [
    "# Example of json.dumps() method\n",
    "import json\n",
    "my_details = {\n",
    "    'Name':'Supriya',\n",
    "    'Stream':'Computer Science and Engineering',\n",
    "    'Qualification':'Bachelor of Technology'\n",
    "}\n",
    "print(my_details)\n",
    "print(f'Type of my_details is {type(my_details)}')\n",
    "my_details_json = json.dumps(my_details, indent=4, sort_keys=True)\n",
    "print(my_details_json)\n",
    "print(f'Type of my_details_json is {type(my_details_json)}')"
   ]
  }
 ],
 "metadata": {
  "kernelspec": {
   "display_name": "Python 3 (ipykernel)",
   "language": "python",
   "name": "python3"
  },
  "language_info": {
   "codemirror_mode": {
    "name": "ipython",
    "version": 3
   },
   "file_extension": ".py",
   "mimetype": "text/x-python",
   "name": "python",
   "nbconvert_exporter": "python",
   "pygments_lexer": "ipython3",
   "version": "3.9.12"
  }
 },
 "nbformat": 4,
 "nbformat_minor": 5
}
