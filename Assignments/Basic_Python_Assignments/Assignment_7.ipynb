{
 "cells": [
  {
   "cell_type": "code",
   "execution_count": 1,
   "id": "8ea71ec9",
   "metadata": {},
   "outputs": [],
   "source": [
    "import re"
   ]
  },
  {
   "cell_type": "markdown",
   "id": "03c72c68",
   "metadata": {},
   "source": [
    "#### 1. What is the name of the feature responsible for generating Regex objects?"
   ]
  },
  {
   "cell_type": "markdown",
   "id": "9cd7cd21",
   "metadata": {},
   "source": [
    "- The name of the feature reponsible for generation Regex objects is\n",
    "    - re.compile()"
   ]
  },
  {
   "cell_type": "markdown",
   "id": "d906ee1a",
   "metadata": {},
   "source": [
    "#### 2. Why do raw strings often appear in Regex objects?"
   ]
  },
  {
   "cell_type": "markdown",
   "id": "86158cb4",
   "metadata": {},
   "source": [
    "- Raw strings\n",
    "    - when you prefix a string with the letter r or R that string becomes a raw string. \n",
    "    - Unlike a regular string,a raw string treats the backslashes (\\\\) as literal character so raw string often appear in Regex objects."
   ]
  },
  {
   "cell_type": "markdown",
   "id": "a3192eb2",
   "metadata": {},
   "source": [
    "#### 3. What is the return value of the search() method?"
   ]
  },
  {
   "cell_type": "markdown",
   "id": "65449b39",
   "metadata": {},
   "source": [
    "- re.search(pattern,string,flags=0)\n",
    "- Scans through string looking for a match to the pattern, returning a Match object, or None if no match was found."
   ]
  },
  {
   "cell_type": "code",
   "execution_count": 8,
   "id": "9a0cd8b2",
   "metadata": {},
   "outputs": [
    {
     "name": "stdout",
     "output_type": "stream",
     "text": [
      "<re.Match object; span=(18, 21), match='Hey'>\n",
      "18\n",
      "21\n"
     ]
    }
   ],
   "source": [
    "s='Hello programmer, Hey'\n",
    "r=re.search('Hey',s)\n",
    "print(r)\n",
    "print(r.start())\n",
    "print(r.end())"
   ]
  },
  {
   "cell_type": "markdown",
   "id": "11630641",
   "metadata": {},
   "source": [
    "#### 4. From a Match item, how do you get the actual strings that match the pattern?"
   ]
  },
  {
   "cell_type": "markdown",
   "id": "fcc81aff",
   "metadata": {},
   "source": [
    "- From a Match item, to get the actual strings that match the pattern we use group() method."
   ]
  },
  {
   "cell_type": "code",
   "execution_count": 9,
   "id": "1d23c094",
   "metadata": {},
   "outputs": [
    {
     "name": "stdout",
     "output_type": "stream",
     "text": [
      "Hey\n"
     ]
    }
   ],
   "source": [
    "s='Hello programmer, Hey'\n",
    "r=re.search('Hey',s)\n",
    "print(r.group())"
   ]
  },
  {
   "cell_type": "markdown",
   "id": "0707a847",
   "metadata": {},
   "source": [
    "#### 5. In the regex which created from the r&#39;(\\d\\d\\d)-(\\d\\d\\d-\\d\\d\\d\\d)&#39;, what does group zero cover? Group 2? Group 1?"
   ]
  },
  {
   "cell_type": "markdown",
   "id": "1b715e1f",
   "metadata": {},
   "source": [
    "- In the regex which created from the r'(\\d\\d\\d)-(\\d\\d\\d-\\d\\d\\d\\d)'\n",
    "    - group 0 will return entire matched text\n",
    "    - group 1 covers the first set of paranthesis\n",
    "    - group 2 covers the second set of paranthesis"
   ]
  },
  {
   "cell_type": "code",
   "execution_count": 20,
   "id": "c096b0ad",
   "metadata": {},
   "outputs": [
    {
     "name": "stdout",
     "output_type": "stream",
     "text": [
      "999-123-4563\n",
      "999\n",
      "123-4563\n"
     ]
    }
   ],
   "source": [
    "r=re.compile( r'(\\d\\d\\d)-(\\d\\d\\d-\\d\\d\\d\\d)')\n",
    "s='999-123-4563'\n",
    "se=r.search(s)\n",
    "print(se.group(0))\n",
    "print(se.group(1))\n",
    "print(se.group(2))"
   ]
  },
  {
   "cell_type": "markdown",
   "id": "e6563941",
   "metadata": {},
   "source": [
    "#### 6. In standard expression syntax, parentheses and intervals have distinct meanings. How can you tell a regex that you want it to fit real parentheses and periods?"
   ]
  },
  {
   "cell_type": "markdown",
   "id": "09563a80",
   "metadata": {},
   "source": [
    "- By using backslash we can fit real parentheses and periods."
   ]
  },
  {
   "cell_type": "code",
   "execution_count": 23,
   "id": "5e010294",
   "metadata": {},
   "outputs": [
    {
     "name": "stdout",
     "output_type": "stream",
     "text": [
      "().\n"
     ]
    }
   ],
   "source": [
    "r=re.compile(\"\\(\\)\\.\")\n",
    "s=r.search('().')\n",
    "print(s.group(0))"
   ]
  },
  {
   "cell_type": "markdown",
   "id": "4b695817",
   "metadata": {},
   "source": [
    "#### 7. The findall() method returns a string list or a list of string tuples. What causes it to return one of the two options?"
   ]
  },
  {
   "cell_type": "markdown",
   "id": "f3362306",
   "metadata": {},
   "source": [
    "- findall()\n",
    "    - returns a string list when it has no groups.\n",
    "    - returns a list of string tuples when it has groups."
   ]
  },
  {
   "cell_type": "code",
   "execution_count": 26,
   "id": "901e01ac",
   "metadata": {},
   "outputs": [
    {
     "name": "stdout",
     "output_type": "stream",
     "text": [
      "['hey', 'hey']\n"
     ]
    }
   ],
   "source": [
    "#below code returns a string list\n",
    "r=re.compile('hey')\n",
    "s=re.findall(r,'hey hello hey')\n",
    "print(s)`"
   ]
  },
  {
   "cell_type": "code",
   "execution_count": 25,
   "id": "dfadfb91",
   "metadata": {},
   "outputs": [
    {
     "name": "stdout",
     "output_type": "stream",
     "text": [
      "[('hey', '0')]\n"
     ]
    }
   ],
   "source": [
    "#below code return list of string tuples\n",
    "r=re.compile(r'(hey)(\\d)')\n",
    "s=re.findall(r,'hey0')\n",
    "print(s)"
   ]
  },
  {
   "cell_type": "markdown",
   "id": "aae635f4",
   "metadata": {},
   "source": [
    "#### 8. In standard expressions, what does the | character mean?"
   ]
  },
  {
   "cell_type": "markdown",
   "id": "1fe27ce4",
   "metadata": {},
   "source": [
    "- | character is used to check either or condition."
   ]
  },
  {
   "cell_type": "code",
   "execution_count": 29,
   "id": "ec4e7e8c",
   "metadata": {},
   "outputs": [
    {
     "name": "stdout",
     "output_type": "stream",
     "text": [
      "['Hello', 'Hai']\n"
     ]
    }
   ],
   "source": [
    "s=re.findall('Hello|Hai','Hello Hai hello')\n",
    "print(s)"
   ]
  },
  {
   "cell_type": "markdown",
   "id": "7bc6be7a",
   "metadata": {},
   "source": [
    "#### 9. In regular expressions, what does the character stand for?"
   ]
  },
  {
   "cell_type": "markdown",
   "id": "4044bc04",
   "metadata": {},
   "source": [
    "- A character in regular expressions stands for it may be a string, or special character or a metacharacter or a literal that has meaning"
   ]
  },
  {
   "cell_type": "markdown",
   "id": "1d375df7",
   "metadata": {},
   "source": [
    "#### 10.In regular expressions, what is the difference between the + and * characters?"
   ]
  },
  {
   "cell_type": "markdown",
   "id": "1f08c49e",
   "metadata": {},
   "source": [
    "- In regular expressions\n",
    "    - + matches one or more occurances of pattern\n",
    "    - * matches zero or more occurances of a pattern"
   ]
  },
  {
   "cell_type": "code",
   "execution_count": 10,
   "id": "5b9a27f5",
   "metadata": {},
   "outputs": [
    {
     "name": "stdout",
     "output_type": "stream",
     "text": [
      "[]\n",
      "No match\n"
     ]
    }
   ],
   "source": [
    "#below code is for +\n",
    "r=re.findall('yoi','hai how are you')\n",
    "print(r)\n",
    "if r:\n",
    "    print('one or more match')\n",
    "else:\n",
    "    print(\"No match\")"
   ]
  },
  {
   "cell_type": "code",
   "execution_count": 9,
   "id": "f10aef47",
   "metadata": {},
   "outputs": [
    {
     "name": "stdout",
     "output_type": "stream",
     "text": [
      "['yo']\n",
      "zero or more match\n"
     ]
    }
   ],
   "source": [
    "#below code is for *\n",
    "r=re.findall('yoi*','hai how are you')\n",
    "print(r)\n",
    "if r:\n",
    "    print('zero or more match')\n",
    "else:\n",
    "    print(\"No match\")"
   ]
  },
  {
   "cell_type": "markdown",
   "id": "1206d27a",
   "metadata": {},
   "source": [
    "#### 11. What is the difference between {4} and {4,5} in regular expression?"
   ]
  },
  {
   "cell_type": "markdown",
   "id": "fdb89ff2",
   "metadata": {},
   "source": [
    "- {4} matches the specified string 4 times exactly but not less than 3.\n",
    "- {4,5} 4 represents minimum and 5 represents maximum , matches the string 4 or 5 times."
   ]
  },
  {
   "cell_type": "code",
   "execution_count": 58,
   "id": "f9f75044",
   "metadata": {},
   "outputs": [
    {
     "name": "stdout",
     "output_type": "stream",
     "text": [
      "hellohellohellohello\n",
      "None\n"
     ]
    }
   ],
   "source": [
    "r=re.compile(r'(hello){4}')\n",
    "s=r.search('hellohellohellohello')\n",
    "print(s.group())\n",
    "s=r.search('hellohellohello')\n",
    "print(s)"
   ]
  },
  {
   "cell_type": "code",
   "execution_count": 57,
   "id": "d2d03537",
   "metadata": {},
   "outputs": [
    {
     "name": "stdout",
     "output_type": "stream",
     "text": [
      "hellohellohellohellohello\n",
      "None\n"
     ]
    }
   ],
   "source": [
    "r=re.compile(r'(hello){4,5}')\n",
    "s=r.search('hellohellohellohellohello')\n",
    "print(s.group())\n",
    "s=r.search('hellohello')\n",
    "print(s)"
   ]
  },
  {
   "cell_type": "markdown",
   "id": "0e33a5bb",
   "metadata": {},
   "source": [
    "#### 12. What do you mean by the \\d, \\w, and \\s shorthand character classes signify in regular expressions?"
   ]
  },
  {
   "cell_type": "markdown",
   "id": "86a5c160",
   "metadata": {},
   "source": [
    "- \\\\d shorthand character class signify single digit in regular expressions\n",
    "- \\\\w shorthand character class signify single word in regular expressions\n",
    "- \\\\s shorthand character class signify space character in regular expressions"
   ]
  },
  {
   "cell_type": "code",
   "execution_count": 19,
   "id": "9fbc794f",
   "metadata": {},
   "outputs": [
    {
     "name": "stdout",
     "output_type": "stream",
     "text": [
      "['9a ']\n",
      "[]\n"
     ]
    }
   ],
   "source": [
    "r=re.compile(r'\\d\\w\\s')\n",
    "s=re.findall(r,\"9a \")\n",
    "s1=re.findall(r,\"a#b\")\n",
    "print(s)\n",
    "print(s1)\n",
    "        "
   ]
  },
  {
   "cell_type": "markdown",
   "id": "2d929074",
   "metadata": {},
   "source": [
    "#### 13. What do means by \\D, \\W, and \\S shorthand character classes signify in regular expressions?"
   ]
  },
  {
   "cell_type": "markdown",
   "id": "d4a227f5",
   "metadata": {},
   "source": [
    "- \\D matches any character which is not a decimal digit opposite of \\d [^0-9].\n",
    "- \\W matches any character which is not a word character opposite pf \\W.\n",
    "- \\S matches any character which is not a white space character."
   ]
  },
  {
   "cell_type": "code",
   "execution_count": 20,
   "id": "749378f7",
   "metadata": {},
   "outputs": [
    {
     "name": "stdout",
     "output_type": "stream",
     "text": [
      "['a#t']\n",
      "[]\n"
     ]
    }
   ],
   "source": [
    "r=re.compile(r'\\D\\W\\S')\n",
    "s=re.findall(r,\"a#t\") # here it is matched to exactly opposite of \\d\\w\\s\n",
    "s1=re.findall(r,\"9a \") \n",
    "print(s)\n",
    "print(s1)"
   ]
  },
  {
   "cell_type": "markdown",
   "id": "2c1c880c",
   "metadata": {},
   "source": [
    "#### 14. What is the difference between .\\*? and .\\*  ?"
   ]
  },
  {
   "cell_type": "markdown",
   "id": "c0781ec6",
   "metadata": {},
   "source": [
    "- In .* -> . represents a match for any single character except the newline character, * represent zero or more characters.\n",
    "- .* represents that any character zero or more times."
   ]
  },
  {
   "cell_type": "code",
   "execution_count": 44,
   "id": "2153c2c4",
   "metadata": {},
   "outputs": [
    {
     "name": "stdout",
     "output_type": "stream",
     "text": [
      "['aabazaaba', '', 'aaa', '']\n",
      "['aabaaabaab']\n"
     ]
    }
   ],
   "source": [
    "r=re.compile(r'.*')\n",
    "print(re.findall(r,'aabazaaba\\naaa'))\n",
    "\n",
    "r=re.compile(r'a.*b')\n",
    "print(re.findall(r,'aabaaabaab'))"
   ]
  },
  {
   "cell_type": "markdown",
   "id": "5f9789ac",
   "metadata": {},
   "source": [
    "- .*? represents it matches a few characters a possible using least repitions that match is the successfull."
   ]
  },
  {
   "cell_type": "code",
   "execution_count": 43,
   "id": "4d414af6",
   "metadata": {},
   "outputs": [
    {
     "name": "stdout",
     "output_type": "stream",
     "text": [
      "['', 'a', '', 'a', '', 'b', '', 'a', '', '', 'a', '', 'a', '', 'a', '']\n",
      "['aab', 'aaab', 'aab']\n"
     ]
    }
   ],
   "source": [
    "r=re.compile(r'.*?')\n",
    "print(re.findall(r,'aaba\\naaa'))\n",
    "\n",
    "r=re.compile(r'a.*?b')\n",
    "print(re.findall(r,'aabaaabaab'))"
   ]
  },
  {
   "cell_type": "markdown",
   "id": "95fd2a43",
   "metadata": {},
   "source": [
    "#### 15. What is the syntax for matching both numbers and lowercase letters with a character class?"
   ]
  },
  {
   "cell_type": "markdown",
   "id": "56b36993",
   "metadata": {},
   "source": [
    "- The syntax for matching both numbers and lowercase letters with a character class is [0-9a-z] or [a-z0-9]."
   ]
  },
  {
   "cell_type": "code",
   "execution_count": 47,
   "id": "29d1fb8b",
   "metadata": {},
   "outputs": [
    {
     "name": "stdout",
     "output_type": "stream",
     "text": [
      "['9d', 'at', 'a9', '90']\n"
     ]
    }
   ],
   "source": [
    "r = re.compile(r'.[0-9a-z]')\n",
    "print(re.findall(r,'9data9901'))"
   ]
  },
  {
   "cell_type": "markdown",
   "id": "19602cda",
   "metadata": {},
   "source": [
    "#### 16. What is the procedure for making a normal expression in regax case insensitive?"
   ]
  },
  {
   "cell_type": "markdown",
   "id": "956e3a7c",
   "metadata": {},
   "source": [
    "- Passing re.I or re.IGNORECASE as the second argument to re.compile() will make the matching case insensitive."
   ]
  },
  {
   "cell_type": "code",
   "execution_count": 51,
   "id": "d91d3595",
   "metadata": {},
   "outputs": [
    {
     "name": "stdout",
     "output_type": "stream",
     "text": [
      "['ABCDE']\n",
      "['abcd']\n"
     ]
    }
   ],
   "source": [
    "r=re.compile('abcde',re.I)\n",
    "print(re.findall(r,'ABCDE'))\n",
    "\n",
    "r=re.compile('ABCD',re.IGNORECASE)\n",
    "print(re.findall(r,'abcd'))"
   ]
  },
  {
   "cell_type": "markdown",
   "id": "b9db6b52",
   "metadata": {},
   "source": [
    "#### 17. What does the . character normally match? What does it match if re.DOTALL is passed as 2nd argument in re.compile()?"
   ]
  },
  {
   "cell_type": "markdown",
   "id": "4a106901",
   "metadata": {},
   "source": [
    "- The . character normally matches all characters except newline characters.\n",
    "- If re.DOTALL is passed as 2nd argument in re.compile() is matches all characters and newline characters also."
   ]
  },
  {
   "cell_type": "code",
   "execution_count": 53,
   "id": "e92812ab",
   "metadata": {},
   "outputs": [
    {
     "name": "stdout",
     "output_type": "stream",
     "text": [
      "['abc', '', 'abc', '']\n",
      "['abc\\nabc', '']\n"
     ]
    }
   ],
   "source": [
    "r = re.compile('.*')\n",
    "print(re.findall(r,'abc\\nabc'))\n",
    "\n",
    "r = re.compile('.*',re.DOTALL)\n",
    "print(re.findall(r,'abc\\nabc'))"
   ]
  },
  {
   "cell_type": "markdown",
   "id": "294b50b7",
   "metadata": {},
   "source": [
    "#### 18. If numReg = re.compile(r&#39;\\d+&#39;), what will numRegex.sub(&#39;X&#39;, &#39;11 drummers, 10 pipers, five rings, 4 hen&#39;) return?"
   ]
  },
  {
   "cell_type": "markdown",
   "id": "c51333c9",
   "metadata": {},
   "source": [
    "- It returns the following\n",
    "    - X drummers, X pipers, five rings, X hen"
   ]
  },
  {
   "cell_type": "code",
   "execution_count": 56,
   "id": "481e8403",
   "metadata": {},
   "outputs": [
    {
     "name": "stdout",
     "output_type": "stream",
     "text": [
      "X drummers, X pipers, five rings, X hen\n"
     ]
    }
   ],
   "source": [
    "numReg = re.compile(r'\\d+')\n",
    "print(numReg.sub('X', '11 drummers, 10 pipers, five rings, 4 hen'))"
   ]
  },
  {
   "cell_type": "markdown",
   "id": "d3efa0ab",
   "metadata": {},
   "source": [
    "#### 19. What does passing re.VERBOSE as the 2nd argument to re.compile() allow to do?"
   ]
  },
  {
   "cell_type": "markdown",
   "id": "1e60803e",
   "metadata": {},
   "source": [
    "- Passing re.VERBOSE as the 2nd argument to re.compile() allows us add comments,whitespace which makes pattern more readable and understandable "
   ]
  },
  {
   "cell_type": "markdown",
   "id": "f4999274",
   "metadata": {},
   "source": [
    "#### 20. How would you write a regex that match a number with comma for every three digits? It must\n",
    "match the given following:\n",
    "&#39;42&#39;\n",
    "&#39;1,234&#39;\n",
    "&#39;6,368,745&#39;\n",
    "\n",
    "but not the following:\n",
    "&#39;12,34,567&#39;\n",
    "(which has only two digits between the commas) &#39;1234&#39; (which lacks commas)"
   ]
  },
  {
   "cell_type": "code",
   "execution_count": 68,
   "id": "3f0b9a18",
   "metadata": {},
   "outputs": [
    {
     "name": "stdout",
     "output_type": "stream",
     "text": [
      "42 matched the pattern\n",
      "1,234 matched the pattern\n",
      "6,368,745 matched the pattern\n",
      "12,34,567 has not matched the pattern\n",
      "1234 has not matched the pattern\n"
     ]
    }
   ],
   "source": [
    "r =re.compile(r'^\\d{1,3}(,\\d{3})*$')\n",
    "l=['42','1,234','6,368,745','12,34,567','1234']\n",
    "for i in l:\n",
    "    if re.findall(r,i):\n",
    "        print(f'{i} matched the pattern')\n",
    "    else:\n",
    "        print(f'{i} has not matched the pattern')"
   ]
  },
  {
   "cell_type": "markdown",
   "id": "14836ba3",
   "metadata": {},
   "source": [
    "#### 21. How would you write a regex that matches the full name of someone whose last name is\n",
    "Watanabe? You can assume that the first name that comes before it will always be one word that\n",
    "\n",
    "begins with a capital letter. The regex must match the following:\n",
    "\n",
    "&#39;Haruto Watanabe&#39;\n",
    "\n",
    "&#39;Alice Watanabe&#39;\n",
    "\n",
    "&#39;RoboCop Watanabe&#39;\n",
    "\n",
    "but not the following:\n",
    "\n",
    "&#39;haruto Watanabe&#39; (where the first name is not capitalized)\n",
    "\n",
    "&#39;Mr. Watanabe&#39; (where the preceding word has a nonletter character)\n",
    "\n",
    "&#39;Watanabe&#39; (which has no first name)\n",
    "\n",
    "&#39;Haruto watanabe&#39; (where Watanabe is not capitalized)"
   ]
  },
  {
   "cell_type": "code",
   "execution_count": 74,
   "id": "aeb26aad",
   "metadata": {},
   "outputs": [
    {
     "name": "stdout",
     "output_type": "stream",
     "text": [
      "Haruto Watanabe matched the pattern\n",
      "Alice Watanabe matched the pattern\n",
      "RoboCop Watanabe matched the pattern\n",
      "haruto Watanabe not matched the pattern\n",
      "Mr. Watanabe not matched the pattern\n",
      "Watanabe not matched the pattern\n",
      "Haruto watanabe not matched the pattern\n"
     ]
    }
   ],
   "source": [
    "r=re.compile(r'^[A-Z][A-za-z]*\\sWatanabe')\n",
    "l=['Haruto Watanabe','Alice Watanabe','RoboCop Watanabe','haruto Watanabe','Mr. Watanabe','Watanabe','Haruto watanabe']\n",
    "for i in l:\n",
    "    if re.findall(r,i):\n",
    "        print(f\"{i} matched the pattern\")\n",
    "    else:\n",
    "        print(f\"{i} not matched the pattern\")\n"
   ]
  },
  {
   "cell_type": "markdown",
   "id": "3bc24f83",
   "metadata": {},
   "source": [
    "#### 22. How would you write a regex that matches a sentence where the first word is either Alice, Bob,or Carol; the second word is either eats, pets, or throws; the third word is apples, cats, or baseballs;and the sentence ends with a period? This regex should be case-insensitive. It must match the following:\n",
    "\n",
    "&#39;Alice eats apples.&#39;\n",
    "\n",
    "&#39;Bob pets cats.&#39;\n",
    "\n",
    "&#39;Carol throws baseballs.&#39;\n",
    "\n",
    "&#39;Alice throws Apples.&#39;\n",
    "\n",
    "&#39;BOB EATS CATS.&#39;\n",
    "\n",
    "but not the following:\n",
    "\n",
    "&#39;RoboCop eats apples.&#39;\n",
    "\n",
    "&#39;ALICE THROWS FOOTBALLS.&#39;\n",
    "\n",
    "&#39;Carol eats 7 cats.&#39;"
   ]
  },
  {
   "cell_type": "code",
   "execution_count": 77,
   "id": "368ce858",
   "metadata": {},
   "outputs": [
    {
     "name": "stdout",
     "output_type": "stream",
     "text": [
      "Alice eats apples. matched the pattern\n",
      "Bob pets cats. matched the pattern\n",
      "Carol throws baseballs. matched the pattern\n",
      "Alice throws Apples. matched the pattern\n",
      "BOB EATS CATS. matched the pattern\n",
      "RoboCop eats apples. not matched the pattern\n",
      "ALICE THROWS FOOTBALLS. not matched the pattern\n",
      "Carol eats 7 cats. not matched the pattern\n"
     ]
    }
   ],
   "source": [
    "r = re.compile(r'^(Alice|Bob|Carol)\\s(eats|pets|throws)\\s(apples|cats|baseballs).',re.IGNORECASE)\n",
    "l=['Alice eats apples.','Bob pets cats.','Carol throws baseballs.','Alice throws Apples.','BOB EATS CATS.','RoboCop eats apples.','ALICE THROWS FOOTBALLS.','Carol eats 7 cats.']\n",
    "for i in l:\n",
    "    if re.findall(r,i):\n",
    "        print(f\"{i} matched the pattern\")\n",
    "    else:\n",
    "        print(f\"{i} not matched the pattern\")\n",
    "    "
   ]
  }
 ],
 "metadata": {
  "kernelspec": {
   "display_name": "Python 3 (ipykernel)",
   "language": "python",
   "name": "python3"
  },
  "language_info": {
   "codemirror_mode": {
    "name": "ipython",
    "version": 3
   },
   "file_extension": ".py",
   "mimetype": "text/x-python",
   "name": "python",
   "nbconvert_exporter": "python",
   "pygments_lexer": "ipython3",
   "version": "3.9.12"
  }
 },
 "nbformat": 4,
 "nbformat_minor": 5
}
