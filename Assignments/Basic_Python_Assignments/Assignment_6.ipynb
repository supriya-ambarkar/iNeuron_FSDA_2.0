{
 "cells": [
  {
   "cell_type": "markdown",
   "id": "c785716a",
   "metadata": {},
   "source": [
    "### 1. What are escape characters, and how do you use them?"
   ]
  },
  {
   "cell_type": "markdown",
   "id": "c6e78f2a",
   "metadata": {},
   "source": [
    "- Escape characters are used to insert the illegal characters into string\n",
    "\n",
    "|escape character|description|\n",
    "|--------|---------|\n",
    "| \\\\\"      | double quote|\n",
    "| \\\\'      | single quote|\n",
    "| \\n      | new line|\n",
    "| \\t      | tabspace|\n"
   ]
  },
  {
   "cell_type": "markdown",
   "id": "5f880bc8",
   "metadata": {},
   "source": [
    "### 2. What do the escape characters n and t stand for?"
   ]
  },
  {
   "cell_type": "markdown",
   "id": "2ca11423",
   "metadata": {},
   "source": [
    "- The escape character \\n stands for newline.\n",
    "- The escape character \\t stands for tab space."
   ]
  },
  {
   "cell_type": "markdown",
   "id": "2d5eb9c4",
   "metadata": {},
   "source": [
    "### 3. What is the way to include backslash characters in a string?"
   ]
  },
  {
   "cell_type": "markdown",
   "id": "be5b9be8",
   "metadata": {},
   "source": [
    "- To include the backslash characters in a string use the following syntax\n",
    "  - \"\\\\\"(two backslashes)"
   ]
  },
  {
   "cell_type": "code",
   "execution_count": 3,
   "id": "adf26475",
   "metadata": {},
   "outputs": [
    {
     "name": "stdout",
     "output_type": "stream",
     "text": [
      "I am back slash \\ included in a string\n"
     ]
    }
   ],
   "source": [
    "back=\"I am back slash \\\\ included in a string\"\n",
    "print(back)"
   ]
  },
  {
   "cell_type": "markdown",
   "id": "051569ef",
   "metadata": {},
   "source": [
    "### 4. The string &quot;Howl&#39;s Moving Castle&quot; is a correct value. Why isn&#39;t the single quote character in the word Howl&#39;s not escaped a problem?"
   ]
  },
  {
   "cell_type": "markdown",
   "id": "dae3bf10",
   "metadata": {},
   "source": [
    "- There are two reasons that single quote character in the word is not escaped problem\n",
    "  - reason-1\n",
    "      - It is escaped problem because string is inside the double quotes so '(single quote) is also treated as a string character.\n",
    "  - reason-2\n",
    "      - While writing string may escape character is used so that single quote not escaped a problem."
   ]
  },
  {
   "cell_type": "code",
   "execution_count": 8,
   "id": "a8e1528b",
   "metadata": {},
   "outputs": [
    {
     "name": "stdout",
     "output_type": "stream",
     "text": [
      "Howl's Moving Castle\n",
      "Howl's Moving Castle\n"
     ]
    }
   ],
   "source": [
    "word=\"Howl's Moving Castle\"\n",
    "print(word)\n",
    "word=\"Howl\\'s Moving Castle\"\n",
    "print(word)\n"
   ]
  },
  {
   "cell_type": "markdown",
   "id": "72cc7df0",
   "metadata": {},
   "source": [
    "### 5. How do you write a string of newlines if you don&#39;t want to use the n character?"
   ]
  },
  {
   "cell_type": "markdown",
   "id": "0b3fdaa0",
   "metadata": {},
   "source": [
    "- By using triple double quotes we can write a string of newlines if we don't want to use the n character."
   ]
  },
  {
   "cell_type": "code",
   "execution_count": 10,
   "id": "3407c9b0",
   "metadata": {},
   "outputs": [
    {
     "name": "stdout",
     "output_type": "stream",
     "text": [
      "This is\n",
      "a multi\n",
      "line string \n",
      "contains string of newlines\n"
     ]
    }
   ],
   "source": [
    "s=\"\"\"This is\n",
    "a multi\n",
    "line string \n",
    "contains string of newlines\"\"\"\n",
    "print(s)"
   ]
  },
  {
   "cell_type": "markdown",
   "id": "0bf4f995",
   "metadata": {},
   "source": [
    "### 6. What are the values of the given expressions?\n",
    "&#39;Hello, world!&#39;[1]\n",
    "\n",
    "&#39;Hello, world!&#39;[0:5]\n",
    "\n",
    "&#39;Hello, world!&#39;[:5]\n",
    "\n",
    "&#39;Hello, world!&#39;[3:]"
   ]
  },
  {
   "cell_type": "markdown",
   "id": "e7445768",
   "metadata": {},
   "source": [
    "'Hello, world!'[1] -> e\n",
    "\n",
    "'Hello, world!'[0:5] -> Hello\n",
    "\n",
    "'Hello, world!'[:5]  -> Hello\n",
    "\n",
    "'Hello, world!'[3:] -> lo, world!"
   ]
  },
  {
   "cell_type": "code",
   "execution_count": 11,
   "id": "9b8d39df",
   "metadata": {},
   "outputs": [
    {
     "name": "stdout",
     "output_type": "stream",
     "text": [
      "e\n",
      "Hello\n",
      "Hello\n",
      "lo, world!\n"
     ]
    }
   ],
   "source": [
    "print('Hello, world!'[1])\n",
    "print('Hello, world!'[0:5])\n",
    "print('Hello, world!'[:5])\n",
    "print('Hello, world!'[3:])"
   ]
  },
  {
   "cell_type": "markdown",
   "id": "a052d3fb",
   "metadata": {},
   "source": [
    "### 7. What are the values of the following expressions?\n",
    "\n",
    "&#39;Hello&#39;.upper()\n",
    "\n",
    "&#39;Hello&#39;.upper().isupper()\n",
    "\n",
    "&#39;Hello&#39;.upper().lower()"
   ]
  },
  {
   "cell_type": "markdown",
   "id": "35a28cd2",
   "metadata": {},
   "source": [
    "'Hello'.upper() -> HELLO\n",
    "\n",
    "'Hello'.upper().isupper() -> True\n",
    "\n",
    "'Hello'.upper().lower() -> hello"
   ]
  },
  {
   "cell_type": "code",
   "execution_count": 12,
   "id": "89c8987c",
   "metadata": {},
   "outputs": [
    {
     "name": "stdout",
     "output_type": "stream",
     "text": [
      "HELLO\n",
      "True\n",
      "hello\n"
     ]
    }
   ],
   "source": [
    "print('Hello'.upper())\n",
    "\n",
    "print('Hello'.upper().isupper())\n",
    "\n",
    "print('Hello'.upper().lower())\n",
    "\n"
   ]
  },
  {
   "cell_type": "markdown",
   "id": "58428182",
   "metadata": {},
   "source": [
    "### 8. What are the values of the following expressions?\n",
    "&#39;Remember, remember, the fifth of July.&#39;.split()\n",
    "\n",
    "&#39;-&#39;.join(&#39;There can only one.&#39;.split())"
   ]
  },
  {
   "cell_type": "markdown",
   "id": "20c58954",
   "metadata": {},
   "source": [
    "'Remember, remember, the fifth of July.'.split() -> ['Remember,', 'remember,', 'the', 'fifth', 'of', 'July.']\n",
    "\n",
    "'-'.join('There can only one.'.split()) -> There-can-only-one."
   ]
  },
  {
   "cell_type": "code",
   "execution_count": 13,
   "id": "8993bb73",
   "metadata": {},
   "outputs": [
    {
     "name": "stdout",
     "output_type": "stream",
     "text": [
      "['Remember,', 'remember,', 'the', 'fifth', 'of', 'July.']\n",
      "There-can-only-one.\n"
     ]
    }
   ],
   "source": [
    "print('Remember, remember, the fifth of July.'.split())\n",
    "\n",
    "print('-'.join('There can only one.'.split()))"
   ]
  },
  {
   "cell_type": "markdown",
   "id": "7c5a19fb",
   "metadata": {},
   "source": [
    "### 9. What are the methods for right-justifying, left-justifying, and centering a string?"
   ]
  },
  {
   "cell_type": "markdown",
   "id": "aff3b91f",
   "metadata": {},
   "source": [
    "- The methods for right-justifying, left-justifying, and centering a string\n",
    "  - right-justifying\n",
    "      - s.rjust(width, fillchar=' ', /)\n",
    "  - left-justifying\n",
    "      - s.ljust(width, fillchar=' ', /)\n",
    "  - centering a strint\n",
    "      - s.center(width, fillchar=' ', /)"
   ]
  },
  {
   "cell_type": "code",
   "execution_count": 14,
   "id": "08aa5b69",
   "metadata": {},
   "outputs": [
    {
     "name": "stdout",
     "output_type": "stream",
     "text": [
      "$$$$$$$$$$$$$$$Happy\n",
      "Happy###############\n",
      "@@@@@@@Happy@@@@@@@@\n"
     ]
    }
   ],
   "source": [
    "s='Happy'\n",
    "print(s.rjust(20,'$'))\n",
    "print(s.ljust(20,'#'))\n",
    "print(s.center(20,'@'))"
   ]
  },
  {
   "cell_type": "markdown",
   "id": "3993e479",
   "metadata": {},
   "source": [
    "### 10. What is the best way to remove whitespace characters from the start or end?"
   ]
  },
  {
   "cell_type": "markdown",
   "id": "e591632c",
   "metadata": {},
   "source": [
    "-  The best way to remove whitespace characters from the start or end \n",
    "- Using lstrip(),rstrip(),strip()\n",
    "    - removing whitespace from start\n",
    "        - s.lstrip(chars=None, /)\n",
    "    - removing whitespace from end\n",
    "        - s.rstrip(chars=None, /)  \n",
    "    - removing whitespace from both start and end\n",
    "        - s.strip(chars=None, /)"
   ]
  },
  {
   "cell_type": "code",
   "execution_count": 15,
   "id": "8fadb1cd",
   "metadata": {},
   "outputs": [
    {
     "name": "stdout",
     "output_type": "stream",
     "text": [
      "Happy       \n",
      "           Happy\n",
      "Happy\n"
     ]
    }
   ],
   "source": [
    "s='           Happy       '\n",
    "print(s.lstrip())\n",
    "print(s.rstrip())\n",
    "print(s.strip())"
   ]
  }
 ],
 "metadata": {
  "kernelspec": {
   "display_name": "Python 3 (ipykernel)",
   "language": "python",
   "name": "python3"
  },
  "language_info": {
   "codemirror_mode": {
    "name": "ipython",
    "version": 3
   },
   "file_extension": ".py",
   "mimetype": "text/x-python",
   "name": "python",
   "nbconvert_exporter": "python",
   "pygments_lexer": "ipython3",
   "version": "3.9.12"
  }
 },
 "nbformat": 4,
 "nbformat_minor": 5
}
