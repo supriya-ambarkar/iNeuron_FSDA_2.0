{
 "cells": [
  {
   "cell_type": "markdown",
   "id": "b69cf41a",
   "metadata": {},
   "source": [
    "#### 1. In the below elements which of them are values or an expression? eg:- values can be\n",
    "#### integer or string and expressions will be mathematical operators.\n",
    "\n",
    "#### *\n",
    "\n",
    "#### 'hello'\n",
    "\n",
    "#### -87.8\n",
    "\n",
    "#### -\n",
    "\n",
    "#### /\n",
    "\n",
    "#### +\n",
    "\n",
    "#### 6"
   ]
  },
  {
   "cell_type": "markdown",
   "id": "5f82ce8b",
   "metadata": {},
   "source": [
    " 1. *is used as an multiplication operator which is used to multiply two values.\n",
    " \n",
    " 2. 'hello' is a string datatype.\n",
    " \n",
    " 3. -87.8 is an float data type.\n",
    " \n",
    " 4. -is an subtraction operator which is used to subtract two values.\n",
    " \n",
    " 5. /is an division operator which is used to divide two values.\n",
    " \n",
    " 6. +is an addition opeorator which is used to add  numerical values or to concatinate the strings.\n",
    " \n",
    " 7. 6 is an integer value.\n",
    " "
   ]
  },
  {
   "cell_type": "markdown",
   "id": "ced646b7",
   "metadata": {},
   "source": [
    "-----------------------------------------"
   ]
  },
  {
   "cell_type": "markdown",
   "id": "3405912f",
   "metadata": {},
   "source": [
    "#### 2. What is the difference between string and variable?\n",
    "\n",
    "##### string\n",
    "- String is a group of characters, which are enclosed within the single quotes(' ') or double quotes(\" \") and stored in a\n",
    "\n",
    "variable.\n",
    "\n",
    "- A String can be represented using triple single quotes(''') or triple double quotes(\"\"\"),which is called multiline \n",
    "\n",
    "string.\n",
    "\n",
    "- The advantage of multiline string it contains more than one line including spaces.\n",
    "\n",
    "##### Example\n",
    "\n",
    "str_1=\"assign\"\n",
    "\n",
    "here \"assign\" is string data type.\n",
    "\n",
    "\n",
    "##### Variable\n",
    "\n",
    "- Variable which is used to store the data in it. Variable points to a memory location where the data is stored.\n",
    "\n",
    "###### Rules for creating variables\n",
    "\n",
    "It can be only one word with no spaces.\n",
    "\n",
    "It can use only letters, numbers, and the underscore (_) character.\n",
    "\n",
    "It cannot begin with a number.\n",
    "\n",
    "##### Example\n",
    "\n",
    "var = 10\n",
    "\n",
    "here 10 is the data which is stored in variable var.\n",
    "\n",
    "By using var we can retrieve thee value 10.\n",
    "\n",
    "var which points to data 10 in memory location internally.\n",
    "\n",
    "some valid varaible names a,ab,a_b,a12\n",
    "\n",
    "invalid variable names @a, 12A,123"
   ]
  },
  {
   "cell_type": "markdown",
   "id": "35e57213",
   "metadata": {},
   "source": [
    "-----------------------------------------"
   ]
  },
  {
   "cell_type": "markdown",
   "id": "cf533a6f",
   "metadata": {},
   "source": [
    "##### 3. Describe three different data types.\n",
    "\n",
    "Data types represents the type of data that will be stored in a variable.\n",
    "\n",
    "The data types in python are also called as \" Built-in datatypes\".\n",
    "\n",
    "The most common datatypes in python are\n",
    "\n",
    "- Integer - A number which doesn't contain any floating point values\n",
    "\n",
    "  -  Example\n",
    "  \n",
    "     2, 3, 5, 6, 7, -10\n",
    "\n",
    "- Float - A number which contains the fraction part known as float datatype.\n",
    "\n",
    " -   Example\n",
    "\n",
    "     2.4,-1.50, 4.0\n",
    "\n",
    "- String - String is a group of characters, which are enclosed within the single quotes(' ') or double quotes(\" \")\"\n",
    "\n",
    " -  Example\n",
    "\n",
    "     'abc', \"Hello\" , \"Welcome to Python\""
   ]
  },
  {
   "cell_type": "markdown",
   "id": "a1e4f596",
   "metadata": {},
   "source": [
    "-----------------------------------------"
   ]
  },
  {
   "cell_type": "markdown",
   "id": "bd04907f",
   "metadata": {},
   "source": [
    "#### 4. What is an expression made up of? What do all expressions do?\n",
    "\n",
    "- Expressions\n",
    "\n",
    "  Expressions are made up values, variables and operators which are evaluated and reduce dowm to a single value.\n",
    "  \n",
    "  All expressions evaluated by interpreter and finds the value."
   ]
  },
  {
   "cell_type": "code",
   "execution_count": 2,
   "id": "0d2990a4",
   "metadata": {},
   "outputs": [
    {
     "name": "stdout",
     "output_type": "stream",
     "text": [
      "6\n",
      "20\n"
     ]
    }
   ],
   "source": [
    "#Examples of expressions\n",
    "print(4+2)\n",
    "n=10\n",
    "print(n+10)"
   ]
  },
  {
   "cell_type": "markdown",
   "id": "488b51be",
   "metadata": {},
   "source": [
    "-----------------------------------------"
   ]
  },
  {
   "cell_type": "markdown",
   "id": "0c3a9648",
   "metadata": {},
   "source": [
    "#### 5. This assignment statements, like spam = 10. What is the difference between an expression and a statement?\n",
    "\n",
    "- Expression\n",
    "\n",
    "     Expressions are made up values, variables and operators which are evaluated and reduce dowm to a single value.\n",
    "     \n",
    "     Statement\n",
    "\n",
    "     A statement is a unit of code which has an effect like print a variable, calling a function.\n",
    "    \n",
    "    1. spam=10\n",
    "\n",
    "    2. print(spam)\n",
    "\n",
    "line 1 represents assignment statement, the value 10 is assigned to variable spam.\n",
    "\n",
    "line 2 represents printing statement which prints the value on console."
   ]
  },
  {
   "cell_type": "markdown",
   "id": "075b8889",
   "metadata": {},
   "source": [
    "-----------------------------------------"
   ]
  },
  {
   "cell_type": "markdown",
   "id": "438466d1",
   "metadata": {},
   "source": [
    "#### 6. After running the following code, what does the variable bacon contain?\n",
    "\n",
    "#### bacon = 22\n",
    "\n",
    "#### bacon + 1\n",
    "\n",
    "    The variable bacon contains the value 22. Because we just incremented the bacon value in runtime but we are not reassigned to the variable bacon."
   ]
  },
  {
   "cell_type": "code",
   "execution_count": 4,
   "id": "9b9f2bdb",
   "metadata": {},
   "outputs": [
    {
     "data": {
      "text/plain": [
       "23"
      ]
     },
     "execution_count": 4,
     "metadata": {},
     "output_type": "execute_result"
    }
   ],
   "source": [
    "bacon=22\n",
    "bacon+1 # we incremented in runtime"
   ]
  },
  {
   "cell_type": "code",
   "execution_count": 5,
   "id": "750eac09",
   "metadata": {},
   "outputs": [
    {
     "data": {
      "text/plain": [
       "22"
      ]
     },
     "execution_count": 5,
     "metadata": {},
     "output_type": "execute_result"
    }
   ],
   "source": [
    "bacon #but the original value is not affected."
   ]
  },
  {
   "cell_type": "markdown",
   "id": "5e6b44cf",
   "metadata": {},
   "source": [
    "------------------"
   ]
  },
  {
   "cell_type": "markdown",
   "id": "818b559f",
   "metadata": {},
   "source": [
    "#### 7. What should the values of the following two terms be?\n",
    "\n",
    "#### 'spam' + 'spamspam'\n",
    "\n",
    "#### 'spam' * 3\n",
    "\n",
    "    'spam'+'spamspam' --> results in 'spamspamspam'\n",
    "\n",
    "    'spam' * 3 --> results in 'spamspamspam'"
   ]
  },
  {
   "cell_type": "markdown",
   "id": "91ea05fb",
   "metadata": {},
   "source": [
    "#### 8. Why is eggs a valid variable name while 100 is invalid?\n",
    "\n",
    "   - eggs is valid variable\n",
    "    \n",
    "    because the variable started with alphabet.and it does not contain any special character in the variable name.\n",
    "\n",
    "   - 100 is invalid\n",
    "    \n",
    "    because the variable started with number.\n",
    "    \n",
    "    It cannot begin with number.\n",
    "    \n",
    "    It can use only letters, numbers, and the underscore (_) character."
   ]
  },
  {
   "cell_type": "markdown",
   "id": "9ba39e8d",
   "metadata": {},
   "source": [
    "----------------------"
   ]
  },
  {
   "cell_type": "markdown",
   "id": "6a27b05e",
   "metadata": {},
   "source": [
    "#### 9. What three functions can be used to get the integer, floating-point number, or string version of a value?\n",
    "\n",
    "The three functions can be used to get the integer, floating-point number, or string version of a value.\n",
    "\n",
    "    int() to get integer.\n",
    "\n",
    "    float() to get floating point number.\n",
    "\n",
    "    str() to get string version of a value."
   ]
  },
  {
   "cell_type": "markdown",
   "id": "5330eab2",
   "metadata": {},
   "source": [
    "----------------------"
   ]
  },
  {
   "cell_type": "markdown",
   "id": "b139a465",
   "metadata": {},
   "source": [
    "#### 10. Why does this expression cause an error? How can you fix it? 'I have eaten ' + 99 + ' burritos.'\n",
    "\n",
    "    'i have eaten'+99+'burritos'\n",
    "\n",
    "    Because the expression causes error we can concatenate str to str (not of type int)\n",
    "\n",
    "    To fix the error we can enclose the value 99 inside single or double quotes.\n",
    "\n",
    "    'i have eaten'+'99'+'burritos'"
   ]
  },
  {
   "cell_type": "code",
   "execution_count": 6,
   "id": "2b504428",
   "metadata": {},
   "outputs": [
    {
     "data": {
      "text/plain": [
       "'i have eaten 99 burritos'"
      ]
     },
     "execution_count": 6,
     "metadata": {},
     "output_type": "execute_result"
    }
   ],
   "source": [
    "'i have eaten '+'99'+' burritos'"
   ]
  }
 ],
 "metadata": {
  "kernelspec": {
   "display_name": "Python 3 (ipykernel)",
   "language": "python",
   "name": "python3"
  },
  "language_info": {
   "codemirror_mode": {
    "name": "ipython",
    "version": 3
   },
   "file_extension": ".py",
   "mimetype": "text/x-python",
   "name": "python",
   "nbconvert_exporter": "python",
   "pygments_lexer": "ipython3",
   "version": "3.9.12"
  }
 },
 "nbformat": 4,
 "nbformat_minor": 5
}
