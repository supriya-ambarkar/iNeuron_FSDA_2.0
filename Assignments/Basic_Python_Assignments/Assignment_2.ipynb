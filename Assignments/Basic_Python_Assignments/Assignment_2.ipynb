{
 "cells": [
  {
   "cell_type": "markdown",
   "id": "04ac0c9a",
   "metadata": {},
   "source": [
    "<b>1.What are the two values of the Boolean data type? How do you write them?</b> "
   ]
  },
  {
   "cell_type": "markdown",
   "id": "eeabd8bc",
   "metadata": {},
   "source": [
    " The two boolean values are True and False.\n",
    " \n",
    " We can write them as \n",
    " \n",
    "    - True\n",
    " \n",
    "    - False"
   ]
  },
  {
   "cell_type": "code",
   "execution_count": 3,
   "id": "5be97e81",
   "metadata": {},
   "outputs": [
    {
     "name": "stdout",
     "output_type": "stream",
     "text": [
      "True   <class 'bool'>\n",
      "False   <class 'bool'>\n"
     ]
    }
   ],
   "source": [
    "print(True,\" \",type(True))\n",
    "print(False,\" \",type(False))"
   ]
  },
  {
   "cell_type": "markdown",
   "id": "06e9f5de",
   "metadata": {},
   "source": [
    "<b>2. What are the three different types of Boolean operators?</b>"
   ]
  },
  {
   "cell_type": "markdown",
   "id": "fbbba688",
   "metadata": {},
   "source": [
    "- The three different types of Boolean operators are:\n",
    "    - and\n",
    "    - or\n",
    "    - not"
   ]
  },
  {
   "cell_type": "markdown",
   "id": "d0435dd4",
   "metadata": {},
   "source": [
    "<b>3. Make a list of each Boolean operator&#39;s truth tables (i.e. every possible combination of Boolean\n",
    "values for the operator and what it evaluate ).</b>"
   ]
  },
  {
   "cell_type": "markdown",
   "id": "f5157d53",
   "metadata": {},
   "source": [
    "- and truth table\n",
    "\n",
    "| A             | B             | output(A and B) |\n",
    "| ------------- | ------------- |-----------------|\n",
    "| True          | True          |    True         |\n",
    "| True          | False         |    False        |\n",
    "| False         | True          |    False        |\n",
    "| False         | False         |    False        |\n",
    "\n"
   ]
  },
  {
   "cell_type": "markdown",
   "id": "c12c152a",
   "metadata": {},
   "source": [
    "- or truth table\n",
    "\n",
    "| A             | B             | output(A or B) |\n",
    "| ------------- | ------------- |-----------------|\n",
    "| True          | True          |    True         |\n",
    "| True          | False         |    True         |\n",
    "| False         | True          |    True         |\n",
    "| False         | False         |    False        |\n",
    "\n"
   ]
  },
  {
   "cell_type": "markdown",
   "id": "6c3aad5a",
   "metadata": {},
   "source": [
    "- not truth table\n",
    "\n",
    "| A             |output(not(A))|\n",
    "| ------------- | ------------- |\n",
    "| True          |    False      |\n",
    "| False         |    True      |\n",
    "\n"
   ]
  },
  {
   "cell_type": "markdown",
   "id": "0eef5609",
   "metadata": {},
   "source": [
    "<b>4. What are the values of the following expressions?</b>\n",
    "- (5 &gt; 4) and (3 == 5)\n",
    "- not (5 &gt; 4)\n",
    "- (5 &gt; 4) or (3 == 5)\n",
    "- not ((5 &gt; 4) or (3 == 5))\n",
    "- (True and True) and (True == False)\n",
    "- (not False) or (not True)"
   ]
  },
  {
   "cell_type": "markdown",
   "id": "a8b15f0e",
   "metadata": {},
   "source": [
    "- (5 &gt; 4) and (3 == 5)\n",
    "   - False\n",
    "- not (5 &gt; 4)\n",
    "     - False\n",
    "- (5 &gt; 4) or (3 == 5)\n",
    "     - True\n",
    "- not ((5 &gt; 4) or (3 == 5))\n",
    "    - False\n",
    "- (True and True) and (True == False)\n",
    "    - False\n",
    "- (not False) or (not True)\n",
    "    - True"
   ]
  },
  {
   "cell_type": "code",
   "execution_count": 4,
   "id": "c5a3922a",
   "metadata": {},
   "outputs": [
    {
     "name": "stdout",
     "output_type": "stream",
     "text": [
      "False\n",
      "False\n",
      "True\n",
      "False\n",
      "False\n",
      "True\n"
     ]
    }
   ],
   "source": [
    "print((5 > 4) and (3 == 5))\n",
    "print(not (5 > 4))\n",
    "print((5 > 4) or (3 == 5))\n",
    "print(not ((5 > 4) or (3 == 5)))\n",
    "print((True and True) and (True == False))\n",
    "print((not False) or (not True))"
   ]
  },
  {
   "cell_type": "markdown",
   "id": "feb8a879",
   "metadata": {},
   "source": [
    "<b>5. What are the six comparison operators?</b>\n",
    "\n",
    "\n",
    "- Comparision operators are also called as relational operators.\n",
    "\n",
    "| Operators     |meaning                    | \n",
    "| ------------- | ------------------        |\n",
    "| <             |    less than               |\n",
    "| <=            |    less than or equal     |\n",
    "| >             |    greater than      |\n",
    "| >=            |    greater than or equal     |\n",
    "| ==            |    equals to      |\n",
    "| !=            |    not equals to     |"
   ]
  },
  {
   "cell_type": "markdown",
   "id": "ad5bc01c",
   "metadata": {},
   "source": [
    "<b>6. How do you tell the difference between the equal to and assignment operators?Describe a\n",
    "condition and when you would use one.</b>\n",
    "\n",
    "- The difference between equal to(==) and the assignment(=) operator is\n",
    "- Equal to\n",
    "    - The equal to operator acts like a comparision operator it checks whether the left hand side value is equal to right hand side value.\n",
    "    - We use equal to operator when we want to make a comparasion between variables or values.\n",
    "- Assignment operator\n",
    "    - The assignment(=) operator assigns the left hand side value to the right hand side variable.\n",
    "    - We use assignment operator when we want to assign a value to a variable."
   ]
  },
  {
   "cell_type": "code",
   "execution_count": 5,
   "id": "640f4caf",
   "metadata": {},
   "outputs": [
    {
     "name": "stdout",
     "output_type": "stream",
     "text": [
      "True\n"
     ]
    }
   ],
   "source": [
    "#Example of equal to(==) operator\n",
    "val1=10\n",
    "val2=10\n",
    "print(val1==val2)"
   ]
  },
  {
   "cell_type": "code",
   "execution_count": 6,
   "id": "dd50106a",
   "metadata": {},
   "outputs": [
    {
     "name": "stdout",
     "output_type": "stream",
     "text": [
      "10\n"
     ]
    }
   ],
   "source": [
    "#Example of assignment operator\n",
    "val1=10\n",
    "# here assigned value 10 to the variable val1 using assignment operator(=).\n",
    "print(val1) #now the val1 contains value 10."
   ]
  },
  {
   "cell_type": "markdown",
   "id": "5114be01",
   "metadata": {},
   "source": [
    "<b>7. Identify the three blocks in this code:\n",
    "    \n",
    "spam = 0\n",
    "    \n",
    "if spam == 10:\n",
    "    \n",
    "print(&#39;eggs&#39;)\n",
    "    \n",
    "if spam &gt; 5:\n",
    "    \n",
    "print(&#39;bacon&#39;)\n",
    "\n",
    "else:\n",
    "\n",
    "print(&#39;ham&#39;)\n",
    "    \n",
    "print(&#39;spam&#39;)\n",
    "    \n",
    "print(&#39;spam&#39;)</b>"
   ]
  },
  {
   "cell_type": "markdown",
   "id": "5de310d9",
   "metadata": {},
   "source": [
    "- The three blocks in the above code are \n",
    "    - if block ( if spam == 10 with one print statement) 1st if block\n",
    "    - if block ( if spam>5 with one print statement) 2nd if block\n",
    "    - else block (with three print statements)"
   ]
  },
  {
   "cell_type": "markdown",
   "id": "6c1a45ad",
   "metadata": {},
   "source": [
    "<b>8. Write code that prints Hello if 1 is stored in spam, prints Howdy if 2 is stored in spam, and prints\n",
    "Greetings! if anything else is stored in spam.</b>"
   ]
  },
  {
   "cell_type": "code",
   "execution_count": 7,
   "id": "93e9bb74",
   "metadata": {},
   "outputs": [
    {
     "name": "stdout",
     "output_type": "stream",
     "text": [
      "2\n",
      "Howdy\n"
     ]
    }
   ],
   "source": [
    "spam=int(input())\n",
    "if spam == 1:\n",
    "    print(\"Hello\")\n",
    "elif spam == 2:\n",
    "    print('Howdy')\n",
    "else:\n",
    "    print(\"Greetings!\")"
   ]
  },
  {
   "cell_type": "markdown",
   "id": "7af00e64",
   "metadata": {},
   "source": [
    "<b>9.If your programmer is stuck in an endless loop, what keys you’ll press?</b>\n",
    "\n",
    "- Keys to press to come out of a endless loop is\n",
    "  - <b> ctrl+c </b>"
   ]
  },
  {
   "cell_type": "markdown",
   "id": "23b75895",
   "metadata": {},
   "source": [
    "<b>10. How can you tell the difference between break and continue?</b>"
   ]
  },
  {
   "cell_type": "markdown",
   "id": "262acbb9",
   "metadata": {},
   "source": [
    "- break\n",
    "    - break statement transfers the control out of the loop.\n",
    "- continue\n",
    "    - continue statememt tells the compiler to skip the following statements and go to the next iteration."
   ]
  },
  {
   "cell_type": "code",
   "execution_count": 8,
   "id": "e5b9b0fb",
   "metadata": {},
   "outputs": [
    {
     "name": "stdout",
     "output_type": "stream",
     "text": [
      "0\n",
      "1\n",
      "2\n"
     ]
    }
   ],
   "source": [
    "#example of break\n",
    "for i in range(5):\n",
    "    if i==3:\n",
    "        break\n",
    "    else:\n",
    "        print(i)"
   ]
  },
  {
   "cell_type": "code",
   "execution_count": 9,
   "id": "976e8606",
   "metadata": {},
   "outputs": [
    {
     "name": "stdout",
     "output_type": "stream",
     "text": [
      "3\n",
      "4\n",
      "5\n",
      "6\n"
     ]
    }
   ],
   "source": [
    "#example of continue\n",
    "x=1\n",
    "while x<=5:\n",
    "    x+=1\n",
    "    if x==2:\n",
    "        continue\n",
    "    print(x)"
   ]
  },
  {
   "cell_type": "markdown",
   "id": "9de09b16",
   "metadata": {},
   "source": [
    "#### 11. In a for loop, what is the difference between range(10), range(0, 10), and range(0, 10, 1)?"
   ]
  },
  {
   "cell_type": "markdown",
   "id": "7f69270e",
   "metadata": {},
   "source": [
    "- There is no difference between range(10), range(0,10),range(0,10,1).\n",
    "  - Explanation\n",
    "    - The range(10) runs the for loop from 0 to 9 excluding 10 because default start value is 0 and default step size is 1.\n",
    "    - The range(0,10) runs the for loop from 0 to 9 excluding 10 and default step size is 1.\n",
    "    - The range(0,10,1) runs the loop from 0 to 9 excluding 10."
   ]
  },
  {
   "cell_type": "markdown",
   "id": "a9aaaa82",
   "metadata": {},
   "source": [
    "#### 12. Write a short program that prints the numbers 1 to 10 using a for loop. Then write an equivalent program that prints the numbers 1 to 10 using a while loop."
   ]
  },
  {
   "cell_type": "code",
   "execution_count": 10,
   "id": "f486527b",
   "metadata": {},
   "outputs": [
    {
     "name": "stdout",
     "output_type": "stream",
     "text": [
      "1 2 3 4 5 6 7 8 9 10 "
     ]
    }
   ],
   "source": [
    "#using for loop\n",
    "for i in range(1,11):\n",
    "    print(i,end=\" \")"
   ]
  },
  {
   "cell_type": "code",
   "execution_count": 11,
   "id": "423ab80e",
   "metadata": {},
   "outputs": [
    {
     "name": "stdout",
     "output_type": "stream",
     "text": [
      "1 2 3 4 5 6 7 8 9 10 "
     ]
    }
   ],
   "source": [
    "#using while loop\n",
    "i=1\n",
    "while i!=11:\n",
    "    print(i,end=\" \")\n",
    "    i+=1"
   ]
  },
  {
   "cell_type": "markdown",
   "id": "3988c575",
   "metadata": {},
   "source": [
    "#### 13. If you had a function named bacon() inside a module named spam, how would you call it after importing spam?"
   ]
  },
  {
   "cell_type": "markdown",
   "id": "42c86435",
   "metadata": {},
   "source": [
    "- we can call bacon() which is inside a module names spam as follows\n",
    "  - spam.bacon()"
   ]
  }
 ],
 "metadata": {
  "kernelspec": {
   "display_name": "Python 3 (ipykernel)",
   "language": "python",
   "name": "python3"
  },
  "language_info": {
   "codemirror_mode": {
    "name": "ipython",
    "version": 3
   },
   "file_extension": ".py",
   "mimetype": "text/x-python",
   "name": "python",
   "nbconvert_exporter": "python",
   "pygments_lexer": "ipython3",
   "version": "3.9.12"
  }
 },
 "nbformat": 4,
 "nbformat_minor": 5
}
