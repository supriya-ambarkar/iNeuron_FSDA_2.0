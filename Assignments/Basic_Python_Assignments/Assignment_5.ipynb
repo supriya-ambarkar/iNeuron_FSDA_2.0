{
 "cells": [
  {
   "cell_type": "markdown",
   "id": "7dea2053",
   "metadata": {},
   "source": [
    "#### 1. What does an empty dictionary&#39;s code look like?"
   ]
  },
  {
   "cell_type": "markdown",
   "id": "6a87c512",
   "metadata": {},
   "source": [
    "- The empty dictionary looks like {} (empty curly braces)."
   ]
  },
  {
   "cell_type": "markdown",
   "id": "459debe2",
   "metadata": {},
   "source": [
    "#### 2. What is the value of a dictionary value with the key &#39;foo&#39; and the value 42?"
   ]
  },
  {
   "cell_type": "markdown",
   "id": "24be0c83",
   "metadata": {},
   "source": [
    "- The value of a dictionary is with key 'foo' and the value 42 is\n",
    "   \n",
    "\n",
    "    - {'foo' : 42}"
   ]
  },
  {
   "cell_type": "markdown",
   "id": "6e502cb2",
   "metadata": {},
   "source": [
    "#### 3. What is the most significant distinction between a dictionary and a list?"
   ]
  },
  {
   "cell_type": "markdown",
   "id": "cacb8dce",
   "metadata": {},
   "source": [
    "- The most significant distinction between a dictionary and list is \n",
    "\n",
    "    - The list value can be accessed with indexes\n",
    "    - The dictonary values can be accessed through keys.\n",
    "    - The list elements are ordered while dictionary elements are unordered\n",
    "    - dictionary cannot be sort using sort() funtion while list can be sorted using sort() funtion."
   ]
  },
  {
   "cell_type": "markdown",
   "id": "66baeef4",
   "metadata": {},
   "source": [
    "#### 4. What happens if you try to access spam[&#39;foo&#39;] if spam is {&#39;bar&#39;: 100}?"
   ]
  },
  {
   "cell_type": "markdown",
   "id": "341045e1",
   "metadata": {},
   "source": [
    "- Python interpreter gives KeyError 'foo'"
   ]
  },
  {
   "cell_type": "code",
   "execution_count": 2,
   "id": "81418fee",
   "metadata": {},
   "outputs": [
    {
     "ename": "KeyError",
     "evalue": "'foo'",
     "output_type": "error",
     "traceback": [
      "\u001b[1;31m---------------------------------------------------------------------------\u001b[0m",
      "\u001b[1;31mKeyError\u001b[0m                                  Traceback (most recent call last)",
      "Input \u001b[1;32mIn [2]\u001b[0m, in \u001b[0;36m<cell line: 2>\u001b[1;34m()\u001b[0m\n\u001b[0;32m      1\u001b[0m spam\u001b[38;5;241m=\u001b[39m{\u001b[38;5;124m'\u001b[39m\u001b[38;5;124mbar\u001b[39m\u001b[38;5;124m'\u001b[39m:\u001b[38;5;241m100\u001b[39m}\n\u001b[1;32m----> 2\u001b[0m \u001b[43mspam\u001b[49m\u001b[43m[\u001b[49m\u001b[38;5;124;43m'\u001b[39;49m\u001b[38;5;124;43mfoo\u001b[39;49m\u001b[38;5;124;43m'\u001b[39;49m\u001b[43m]\u001b[49m\n",
      "\u001b[1;31mKeyError\u001b[0m: 'foo'"
     ]
    }
   ],
   "source": [
    "spam={'bar':100}\n",
    "spam['foo']"
   ]
  },
  {
   "cell_type": "markdown",
   "id": "7b09294a",
   "metadata": {},
   "source": [
    "#### 5. If a dictionary is stored in spam, what is the difference between the expressions &#39;cat&#39; in spam and &#39;cat&#39; in spam.keys()?"
   ]
  },
  {
   "cell_type": "markdown",
   "id": "f0ef3316",
   "metadata": {},
   "source": [
    "- There is no difference between 'cat' in spam and 'cat' in spam.keys()\n",
    "\n",
    "- Both expressions return boolean values True if cat present in dictionary else False"
   ]
  },
  {
   "cell_type": "code",
   "execution_count": 7,
   "id": "dd5b328e",
   "metadata": {},
   "outputs": [
    {
     "name": "stdout",
     "output_type": "stream",
     "text": [
      "True\n",
      "True\n"
     ]
    }
   ],
   "source": [
    "spam={'cat':1}\n",
    "print('cat' in spam)\n",
    "print('cat' in spam.keys())"
   ]
  },
  {
   "cell_type": "markdown",
   "id": "afb08dc5",
   "metadata": {},
   "source": [
    "#### 6. If a dictionary is stored in spam, what is the difference between the expressions &#39;cat&#39; in spam and &#39;cat&#39; in spam.values()?"
   ]
  },
  {
   "cell_type": "markdown",
   "id": "1599dd98",
   "metadata": {},
   "source": [
    "- The difference between the expressions 'cat' in spam and 'cat' in spam.values()\n",
    "\n",
    "- The expression 'cat' in spam checks the dictionary wheather 'cat' is present as a key in spam dictionary returns True if 'cat' is a key in spam else gives KeyError\n",
    "\n",
    "- The expression 'cat' in spam.values() searches for the value 'cat' in spam.values() which actually returns a list of dictionary values"
   ]
  },
  {
   "cell_type": "markdown",
   "id": "e32a52b7",
   "metadata": {},
   "source": [
    "#### 7. What is a shortcut for the following code?\n",
    "if &#39;color&#39; not in spam:\n",
    "\n",
    "spam[&#39;color&#39;] = &#39;black&#39;"
   ]
  },
  {
   "cell_type": "markdown",
   "id": "b1ff2d19",
   "metadata": {},
   "source": [
    "- The shortcut for the above code:\n",
    "    - spam.setdefault('color','black')\n"
   ]
  },
  {
   "cell_type": "markdown",
   "id": "56d6769a",
   "metadata": {},
   "source": [
    "#### 8. How do you &quot;pretty print&quot; dictionary values using which module and function?"
   ]
  },
  {
   "cell_type": "markdown",
   "id": "2f47db8d",
   "metadata": {},
   "source": [
    "- pprint is a module\n",
    "- pprint.ppprint() is a funtion used to pretty print the dictionary values."
   ]
  },
  {
   "cell_type": "code",
   "execution_count": 10,
   "id": "77b4d858",
   "metadata": {},
   "outputs": [
    {
     "name": "stdout",
     "output_type": "stream",
     "text": [
      "{1: 10, 2: 20, 3: 30}\n"
     ]
    }
   ],
   "source": [
    "import pprint #pprint is a module\n",
    "\n",
    "d={3:30,1:10,2:20,}\n",
    "pprint.pprint(d) #pprint() is a function"
   ]
  }
 ],
 "metadata": {
  "kernelspec": {
   "display_name": "Python 3 (ipykernel)",
   "language": "python",
   "name": "python3"
  },
  "language_info": {
   "codemirror_mode": {
    "name": "ipython",
    "version": 3
   },
   "file_extension": ".py",
   "mimetype": "text/x-python",
   "name": "python",
   "nbconvert_exporter": "python",
   "pygments_lexer": "ipython3",
   "version": "3.9.12"
  }
 },
 "nbformat": 4,
 "nbformat_minor": 5
}
